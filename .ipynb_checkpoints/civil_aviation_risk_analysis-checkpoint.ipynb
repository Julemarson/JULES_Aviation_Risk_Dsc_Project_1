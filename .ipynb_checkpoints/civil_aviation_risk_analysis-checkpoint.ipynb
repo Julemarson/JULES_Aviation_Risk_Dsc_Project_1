{
 "cells": [
  {
   "cell_type": "markdown",
   "metadata": {},
   "source": [
    "# Akademi (Flatiron School) - Cohort 2025 - Data Science & AI\n",
    "\n",
    "### Flight Risk Analysis: A Data-Driven Approach to Aircraft Safety Evaluation - First Project\n",
    "\n",
    "---\n",
    "\n",
    "- **Student name :** Vilmarson JULES\n",
    "- **Student pace :** self pace\n",
    "- **Deadline Submission :** June 8, 2025 \n",
    "- **Instructors' Name :** Wedter Jerome & Geovanie Batista Polo Laguerre\n",
    "\n",
    "- **Blog post URL :** [GitHub repository link](https://github.com/Julemarson/JULES_Aviation_Risk_Dsc_Project_1.git)\n",
    "\n"
   ]
  },
  {
   "cell_type": "markdown",
   "metadata": {},
   "source": [
    "![photo](Images/Log2.jpg)"
   ]
  },
  {
   "cell_type": "markdown",
   "metadata": {},
   "source": [
    "\n"
   ]
  },
  {
   "cell_type": "markdown",
   "metadata": {},
   "source": [
    "## Overview \n",
    "\n",
    "---\n",
    "This project is intended to analyze aviation risk accident from the National Transportation Safety Board [(NTSB)](https://www.kaggle.com/datasets/khsamaha/aviation-accident-database-synopses) from **(19962 to 2023)**.\n",
    "\n",
    "Then,this project is intended to :\n",
    "\n",
    "1. Identify the **lowest-risk** aircraft for commercial and private enterprises.  \n",
    "2. Aims to surface actionable insights for business stakeholders by :\n",
    "    - rigorous data cleaning  \n",
    "    - missing value imputation  \n",
    "    - exploratory analysis  \n",
    "    - visualization  \n",
    "3. Identifying trends in accident severity, injury rates, flight phases, and aircraft models."
   ]
  },
  {
   "cell_type": "markdown",
   "metadata": {},
   "source": [
    "**Short Description**\n",
    "\n",
    "This project utilizes civil aviation accident [data](https://www.kaggle.com/datasets/khsamaha/aviation-accident-database-synopses) from the National Transportation Safety Board (NTSB), covering incidents from 1962 to 2023. The goal is to analyze this rich dataset to evaluate and compare safety records across different aircraft types, flight purposes, and operational conditions."
   ]
  },
  {
   "cell_type": "markdown",
   "metadata": {},
   "source": [
    "## Business problem\n",
    "\n",
    "---\n",
    "\n",
    "Many companies are exploring entry into the aviation industry — both in commercial and private operations. However, aviation is a high-stakes sector with substantial operational and safety risks. One key concern is identifying which types of aircraft pose the least safety risk, especially given the potential financial and human costs of accidents.\n",
    "\n",
    "Currently, company leadership lacks the data-driven insight necessary to make informed decisions about which aircraft types are safest, most reliable, or most suited to their operational goals. My task is to bridge that gap using historical accident and incident data to uncover meaningful patterns and provide a clear, evidence-backed view of aviation risks.\n",
    "   "
   ]
  },
  {
   "cell_type": "markdown",
   "metadata": {},
   "source": [
    "![Photo2](Images/Crash1.jpg)"
   ]
  },
  {
   "cell_type": "markdown",
   "metadata": {},
   "source": [
    "\n"
   ]
  },
  {
   "cell_type": "markdown",
   "metadata": {},
   "source": [
    "### Methods\n",
    "\n",
    "\n",
    "To realize this project, the use of technical tools environnement like **Git, GitHUb, Git Bash, Jupyter Notebook** was a most. Moreover great features of *Python language* are used with a main focus on `Pandas and Matplotlib ` Packages.\n",
    "\n",
    "Throughout this project, we leverages : \n",
    "\n",
    "- Descriptive statistics analysis, instead of inferential Satistics, to  achieve analysis\n",
    "- Data cleaning, exploratory analysis using great features of `Pandas`\n",
    "- Data Visualization, and interactive dashboard with power Bi to extract salients insight for business stakeholders\n"
   ]
  },
  {
   "cell_type": "markdown",
   "metadata": {},
   "source": [
    "## Business Understanding  \n"
   ]
  },
  {
   "cell_type": "markdown",
   "metadata": {},
   "source": [
    "![Photo](Images/images.jpg)   \n",
    "\n",
    "\n",
    "This project aims to support data-driven decision-making for investors in the aviation industry by analyzing historical aircraft accident data. The core objective is to **evaluate the economic risk associated with different aircraft manufacturers, types, and operational environments**, including geographic and weather-related factors. By understanding patterns in accident frequency, severity, and regional distribution, investors can identify safer, more profitable investment opportunities and avoid segments with disproportionately high risk.\n"
   ]
  },
  {
   "cell_type": "code",
   "execution_count": 2,
   "metadata": {},
   "outputs": [],
   "source": [
    "#Import here"
   ]
  },
  {
   "cell_type": "code",
   "execution_count": 250,
   "metadata": {},
   "outputs": [],
   "source": [
    "# Here I'm importing all necessaries packages  to start !\n",
    "\n",
    "import pandas as  pd\n",
    "import matplotlib.pyplot as plt\n",
    "import numpy as np\n",
    "import seaborn as sns\n",
    "import plotly.express as px\n"
   ]
  },
  {
   "cell_type": "code",
   "execution_count": 251,
   "metadata": {},
   "outputs": [],
   "source": [
    "# I'm going to upload my dataset buy using appropriate pandas method\n",
    "\n",
    "\n",
    "# I'm using read_csv pandas method to import my two datasets\n",
    "\n",
    "aviation = pd.read_csv(r'Data\\AviationData.csv', encoding ='ISO-8859-1', low_memory = False)\n",
    "\n",
    "state_us = pd.read_csv(r'Data\\USState_codes.csv',encoding ='ISO-8859-1', low_memory = False)\n",
    "\n"
   ]
  },
  {
   "cell_type": "markdown",
   "metadata": {},
   "source": [
    "## Data Understanding\n",
    "\n",
    "---"
   ]
  },
  {
   "cell_type": "markdown",
   "metadata": {},
   "source": [
    "### Dataset over view ()\n",
    "\n",
    "Here we are going to get a meaningful overview of the two Datasets.  \n",
    "Todo so, I'm going to use some of the methods of `Pandas` DataFrame, like `.head()`,`shape`, ` .info()`, ...\n",
    "\n",
    "Here, i'm going to view the \n",
    "- The Aviation `DataFrame`\n",
    "- The state_us `DataFrame`"
   ]
  },
  {
   "cell_type": "markdown",
   "metadata": {},
   "source": [
    "###### Aviation DataFrame over view"
   ]
  },
  {
   "cell_type": "code",
   "execution_count": 3,
   "metadata": {
    "collapsed": true
   },
   "outputs": [
    {
     "data": {
      "text/html": [
       "<div>\n",
       "<style scoped>\n",
       "    .dataframe tbody tr th:only-of-type {\n",
       "        vertical-align: middle;\n",
       "    }\n",
       "\n",
       "    .dataframe tbody tr th {\n",
       "        vertical-align: top;\n",
       "    }\n",
       "\n",
       "    .dataframe thead th {\n",
       "        text-align: right;\n",
       "    }\n",
       "</style>\n",
       "<table border=\"1\" class=\"dataframe\">\n",
       "  <thead>\n",
       "    <tr style=\"text-align: right;\">\n",
       "      <th></th>\n",
       "      <th>Event.Id</th>\n",
       "      <th>Investigation.Type</th>\n",
       "      <th>Accident.Number</th>\n",
       "      <th>Event.Date</th>\n",
       "      <th>Location</th>\n",
       "      <th>Country</th>\n",
       "      <th>Latitude</th>\n",
       "      <th>Longitude</th>\n",
       "      <th>Airport.Code</th>\n",
       "      <th>Airport.Name</th>\n",
       "      <th>...</th>\n",
       "      <th>Purpose.of.flight</th>\n",
       "      <th>Air.carrier</th>\n",
       "      <th>Total.Fatal.Injuries</th>\n",
       "      <th>Total.Serious.Injuries</th>\n",
       "      <th>Total.Minor.Injuries</th>\n",
       "      <th>Total.Uninjured</th>\n",
       "      <th>Weather.Condition</th>\n",
       "      <th>Broad.phase.of.flight</th>\n",
       "      <th>Report.Status</th>\n",
       "      <th>Publication.Date</th>\n",
       "    </tr>\n",
       "  </thead>\n",
       "  <tbody>\n",
       "    <tr>\n",
       "      <th>0</th>\n",
       "      <td>20001218X45444</td>\n",
       "      <td>Accident</td>\n",
       "      <td>SEA87LA080</td>\n",
       "      <td>1948-10-24</td>\n",
       "      <td>MOOSE CREEK, ID</td>\n",
       "      <td>United States</td>\n",
       "      <td>NaN</td>\n",
       "      <td>NaN</td>\n",
       "      <td>NaN</td>\n",
       "      <td>NaN</td>\n",
       "      <td>...</td>\n",
       "      <td>Personal</td>\n",
       "      <td>NaN</td>\n",
       "      <td>2.0</td>\n",
       "      <td>0.0</td>\n",
       "      <td>0.0</td>\n",
       "      <td>0.0</td>\n",
       "      <td>UNK</td>\n",
       "      <td>Cruise</td>\n",
       "      <td>Probable Cause</td>\n",
       "      <td>NaN</td>\n",
       "    </tr>\n",
       "    <tr>\n",
       "      <th>1</th>\n",
       "      <td>20001218X45447</td>\n",
       "      <td>Accident</td>\n",
       "      <td>LAX94LA336</td>\n",
       "      <td>1962-07-19</td>\n",
       "      <td>BRIDGEPORT, CA</td>\n",
       "      <td>United States</td>\n",
       "      <td>NaN</td>\n",
       "      <td>NaN</td>\n",
       "      <td>NaN</td>\n",
       "      <td>NaN</td>\n",
       "      <td>...</td>\n",
       "      <td>Personal</td>\n",
       "      <td>NaN</td>\n",
       "      <td>4.0</td>\n",
       "      <td>0.0</td>\n",
       "      <td>0.0</td>\n",
       "      <td>0.0</td>\n",
       "      <td>UNK</td>\n",
       "      <td>Unknown</td>\n",
       "      <td>Probable Cause</td>\n",
       "      <td>19-09-1996</td>\n",
       "    </tr>\n",
       "    <tr>\n",
       "      <th>2</th>\n",
       "      <td>20061025X01555</td>\n",
       "      <td>Accident</td>\n",
       "      <td>NYC07LA005</td>\n",
       "      <td>1974-08-30</td>\n",
       "      <td>Saltville, VA</td>\n",
       "      <td>United States</td>\n",
       "      <td>36.922223</td>\n",
       "      <td>-81.878056</td>\n",
       "      <td>NaN</td>\n",
       "      <td>NaN</td>\n",
       "      <td>...</td>\n",
       "      <td>Personal</td>\n",
       "      <td>NaN</td>\n",
       "      <td>3.0</td>\n",
       "      <td>NaN</td>\n",
       "      <td>NaN</td>\n",
       "      <td>NaN</td>\n",
       "      <td>IMC</td>\n",
       "      <td>Cruise</td>\n",
       "      <td>Probable Cause</td>\n",
       "      <td>26-02-2007</td>\n",
       "    </tr>\n",
       "    <tr>\n",
       "      <th>3</th>\n",
       "      <td>20001218X45448</td>\n",
       "      <td>Accident</td>\n",
       "      <td>LAX96LA321</td>\n",
       "      <td>1977-06-19</td>\n",
       "      <td>EUREKA, CA</td>\n",
       "      <td>United States</td>\n",
       "      <td>NaN</td>\n",
       "      <td>NaN</td>\n",
       "      <td>NaN</td>\n",
       "      <td>NaN</td>\n",
       "      <td>...</td>\n",
       "      <td>Personal</td>\n",
       "      <td>NaN</td>\n",
       "      <td>2.0</td>\n",
       "      <td>0.0</td>\n",
       "      <td>0.0</td>\n",
       "      <td>0.0</td>\n",
       "      <td>IMC</td>\n",
       "      <td>Cruise</td>\n",
       "      <td>Probable Cause</td>\n",
       "      <td>12-09-2000</td>\n",
       "    </tr>\n",
       "    <tr>\n",
       "      <th>4</th>\n",
       "      <td>20041105X01764</td>\n",
       "      <td>Accident</td>\n",
       "      <td>CHI79FA064</td>\n",
       "      <td>1979-08-02</td>\n",
       "      <td>Canton, OH</td>\n",
       "      <td>United States</td>\n",
       "      <td>NaN</td>\n",
       "      <td>NaN</td>\n",
       "      <td>NaN</td>\n",
       "      <td>NaN</td>\n",
       "      <td>...</td>\n",
       "      <td>Personal</td>\n",
       "      <td>NaN</td>\n",
       "      <td>1.0</td>\n",
       "      <td>2.0</td>\n",
       "      <td>NaN</td>\n",
       "      <td>0.0</td>\n",
       "      <td>VMC</td>\n",
       "      <td>Approach</td>\n",
       "      <td>Probable Cause</td>\n",
       "      <td>16-04-1980</td>\n",
       "    </tr>\n",
       "    <tr>\n",
       "      <th>5</th>\n",
       "      <td>20170710X52551</td>\n",
       "      <td>Accident</td>\n",
       "      <td>NYC79AA106</td>\n",
       "      <td>1979-09-17</td>\n",
       "      <td>BOSTON, MA</td>\n",
       "      <td>United States</td>\n",
       "      <td>42.445277</td>\n",
       "      <td>-70.758333</td>\n",
       "      <td>NaN</td>\n",
       "      <td>NaN</td>\n",
       "      <td>...</td>\n",
       "      <td>NaN</td>\n",
       "      <td>Air Canada</td>\n",
       "      <td>NaN</td>\n",
       "      <td>NaN</td>\n",
       "      <td>1.0</td>\n",
       "      <td>44.0</td>\n",
       "      <td>VMC</td>\n",
       "      <td>Climb</td>\n",
       "      <td>Probable Cause</td>\n",
       "      <td>19-09-2017</td>\n",
       "    </tr>\n",
       "    <tr>\n",
       "      <th>6</th>\n",
       "      <td>20001218X45446</td>\n",
       "      <td>Accident</td>\n",
       "      <td>CHI81LA106</td>\n",
       "      <td>1981-08-01</td>\n",
       "      <td>COTTON, MN</td>\n",
       "      <td>United States</td>\n",
       "      <td>NaN</td>\n",
       "      <td>NaN</td>\n",
       "      <td>NaN</td>\n",
       "      <td>NaN</td>\n",
       "      <td>...</td>\n",
       "      <td>Personal</td>\n",
       "      <td>NaN</td>\n",
       "      <td>4.0</td>\n",
       "      <td>0.0</td>\n",
       "      <td>0.0</td>\n",
       "      <td>0.0</td>\n",
       "      <td>IMC</td>\n",
       "      <td>Unknown</td>\n",
       "      <td>Probable Cause</td>\n",
       "      <td>06-11-2001</td>\n",
       "    </tr>\n",
       "    <tr>\n",
       "      <th>7</th>\n",
       "      <td>20020909X01562</td>\n",
       "      <td>Accident</td>\n",
       "      <td>SEA82DA022</td>\n",
       "      <td>1982-01-01</td>\n",
       "      <td>PULLMAN, WA</td>\n",
       "      <td>United States</td>\n",
       "      <td>NaN</td>\n",
       "      <td>NaN</td>\n",
       "      <td>NaN</td>\n",
       "      <td>BLACKBURN AG STRIP</td>\n",
       "      <td>...</td>\n",
       "      <td>Personal</td>\n",
       "      <td>NaN</td>\n",
       "      <td>0.0</td>\n",
       "      <td>0.0</td>\n",
       "      <td>0.0</td>\n",
       "      <td>2.0</td>\n",
       "      <td>VMC</td>\n",
       "      <td>Takeoff</td>\n",
       "      <td>Probable Cause</td>\n",
       "      <td>01-01-1982</td>\n",
       "    </tr>\n",
       "    <tr>\n",
       "      <th>8</th>\n",
       "      <td>20020909X01561</td>\n",
       "      <td>Accident</td>\n",
       "      <td>NYC82DA015</td>\n",
       "      <td>1982-01-01</td>\n",
       "      <td>EAST HANOVER, NJ</td>\n",
       "      <td>United States</td>\n",
       "      <td>NaN</td>\n",
       "      <td>NaN</td>\n",
       "      <td>N58</td>\n",
       "      <td>HANOVER</td>\n",
       "      <td>...</td>\n",
       "      <td>Business</td>\n",
       "      <td>NaN</td>\n",
       "      <td>0.0</td>\n",
       "      <td>0.0</td>\n",
       "      <td>0.0</td>\n",
       "      <td>2.0</td>\n",
       "      <td>IMC</td>\n",
       "      <td>Landing</td>\n",
       "      <td>Probable Cause</td>\n",
       "      <td>01-01-1982</td>\n",
       "    </tr>\n",
       "    <tr>\n",
       "      <th>9</th>\n",
       "      <td>20020909X01560</td>\n",
       "      <td>Accident</td>\n",
       "      <td>MIA82DA029</td>\n",
       "      <td>1982-01-01</td>\n",
       "      <td>JACKSONVILLE, FL</td>\n",
       "      <td>United States</td>\n",
       "      <td>NaN</td>\n",
       "      <td>NaN</td>\n",
       "      <td>JAX</td>\n",
       "      <td>JACKSONVILLE INTL</td>\n",
       "      <td>...</td>\n",
       "      <td>Personal</td>\n",
       "      <td>NaN</td>\n",
       "      <td>0.0</td>\n",
       "      <td>0.0</td>\n",
       "      <td>3.0</td>\n",
       "      <td>0.0</td>\n",
       "      <td>IMC</td>\n",
       "      <td>Cruise</td>\n",
       "      <td>Probable Cause</td>\n",
       "      <td>01-01-1982</td>\n",
       "    </tr>\n",
       "  </tbody>\n",
       "</table>\n",
       "<p>10 rows × 31 columns</p>\n",
       "</div>"
      ],
      "text/plain": [
       "         Event.Id Investigation.Type Accident.Number  Event.Date  \\\n",
       "0  20001218X45444           Accident      SEA87LA080  1948-10-24   \n",
       "1  20001218X45447           Accident      LAX94LA336  1962-07-19   \n",
       "2  20061025X01555           Accident      NYC07LA005  1974-08-30   \n",
       "3  20001218X45448           Accident      LAX96LA321  1977-06-19   \n",
       "4  20041105X01764           Accident      CHI79FA064  1979-08-02   \n",
       "5  20170710X52551           Accident      NYC79AA106  1979-09-17   \n",
       "6  20001218X45446           Accident      CHI81LA106  1981-08-01   \n",
       "7  20020909X01562           Accident      SEA82DA022  1982-01-01   \n",
       "8  20020909X01561           Accident      NYC82DA015  1982-01-01   \n",
       "9  20020909X01560           Accident      MIA82DA029  1982-01-01   \n",
       "\n",
       "           Location        Country   Latitude   Longitude Airport.Code  \\\n",
       "0   MOOSE CREEK, ID  United States        NaN         NaN          NaN   \n",
       "1    BRIDGEPORT, CA  United States        NaN         NaN          NaN   \n",
       "2     Saltville, VA  United States  36.922223  -81.878056          NaN   \n",
       "3        EUREKA, CA  United States        NaN         NaN          NaN   \n",
       "4        Canton, OH  United States        NaN         NaN          NaN   \n",
       "5        BOSTON, MA  United States  42.445277  -70.758333          NaN   \n",
       "6        COTTON, MN  United States        NaN         NaN          NaN   \n",
       "7       PULLMAN, WA  United States        NaN         NaN          NaN   \n",
       "8  EAST HANOVER, NJ  United States        NaN         NaN          N58   \n",
       "9  JACKSONVILLE, FL  United States        NaN         NaN          JAX   \n",
       "\n",
       "         Airport.Name  ... Purpose.of.flight Air.carrier Total.Fatal.Injuries  \\\n",
       "0                 NaN  ...          Personal         NaN                  2.0   \n",
       "1                 NaN  ...          Personal         NaN                  4.0   \n",
       "2                 NaN  ...          Personal         NaN                  3.0   \n",
       "3                 NaN  ...          Personal         NaN                  2.0   \n",
       "4                 NaN  ...          Personal         NaN                  1.0   \n",
       "5                 NaN  ...               NaN  Air Canada                  NaN   \n",
       "6                 NaN  ...          Personal         NaN                  4.0   \n",
       "7  BLACKBURN AG STRIP  ...          Personal         NaN                  0.0   \n",
       "8             HANOVER  ...          Business         NaN                  0.0   \n",
       "9   JACKSONVILLE INTL  ...          Personal         NaN                  0.0   \n",
       "\n",
       "  Total.Serious.Injuries Total.Minor.Injuries Total.Uninjured  \\\n",
       "0                    0.0                  0.0             0.0   \n",
       "1                    0.0                  0.0             0.0   \n",
       "2                    NaN                  NaN             NaN   \n",
       "3                    0.0                  0.0             0.0   \n",
       "4                    2.0                  NaN             0.0   \n",
       "5                    NaN                  1.0            44.0   \n",
       "6                    0.0                  0.0             0.0   \n",
       "7                    0.0                  0.0             2.0   \n",
       "8                    0.0                  0.0             2.0   \n",
       "9                    0.0                  3.0             0.0   \n",
       "\n",
       "  Weather.Condition  Broad.phase.of.flight   Report.Status Publication.Date  \n",
       "0               UNK                 Cruise  Probable Cause              NaN  \n",
       "1               UNK                Unknown  Probable Cause       19-09-1996  \n",
       "2               IMC                 Cruise  Probable Cause       26-02-2007  \n",
       "3               IMC                 Cruise  Probable Cause       12-09-2000  \n",
       "4               VMC               Approach  Probable Cause       16-04-1980  \n",
       "5               VMC                  Climb  Probable Cause       19-09-2017  \n",
       "6               IMC                Unknown  Probable Cause       06-11-2001  \n",
       "7               VMC                Takeoff  Probable Cause       01-01-1982  \n",
       "8               IMC                Landing  Probable Cause       01-01-1982  \n",
       "9               IMC                 Cruise  Probable Cause       01-01-1982  \n",
       "\n",
       "[10 rows x 31 columns]"
      ]
     },
     "execution_count": 3,
     "metadata": {},
     "output_type": "execute_result"
    }
   ],
   "source": [
    "# I'm displaying the first 10 rows of the aviation dataframe to get a brief idea. \n",
    "\n",
    "aviation.head(10) # I just pass 10 as in argument. I could also display the last  5 records with .tail()"
   ]
  },
  {
   "cell_type": "code",
   "execution_count": 4,
   "metadata": {},
   "outputs": [
    {
     "data": {
      "text/plain": [
       "(88889, 31)"
      ]
     },
     "execution_count": 4,
     "metadata": {},
     "output_type": "execute_result"
    }
   ],
   "source": [
    "# Now it's time to look at the shape(dimension) of the aviation DataFrame\n",
    "\n",
    "aviation.shape"
   ]
  },
  {
   "cell_type": "code",
   "execution_count": 5,
   "metadata": {
    "collapsed": true
   },
   "outputs": [
    {
     "data": {
      "text/plain": [
       "Index(['Event.Id', 'Investigation.Type', 'Accident.Number', 'Event.Date',\n",
       "       'Location', 'Country', 'Latitude', 'Longitude', 'Airport.Code',\n",
       "       'Airport.Name', 'Injury.Severity', 'Aircraft.damage',\n",
       "       'Aircraft.Category', 'Registration.Number', 'Make', 'Model',\n",
       "       'Amateur.Built', 'Number.of.Engines', 'Engine.Type', 'FAR.Description',\n",
       "       'Schedule', 'Purpose.of.flight', 'Air.carrier', 'Total.Fatal.Injuries',\n",
       "       'Total.Serious.Injuries', 'Total.Minor.Injuries', 'Total.Uninjured',\n",
       "       'Weather.Condition', 'Broad.phase.of.flight', 'Report.Status',\n",
       "       'Publication.Date'],\n",
       "      dtype='object')"
      ]
     },
     "execution_count": 5,
     "metadata": {},
     "output_type": "execute_result"
    }
   ],
   "source": [
    "# Time to show the number of columns of the aviation Dataset.\n",
    "\n",
    "aviation.columns"
   ]
  },
  {
   "cell_type": "code",
   "execution_count": 6,
   "metadata": {},
   "outputs": [
    {
     "data": {
      "text/plain": [
       "0"
      ]
     },
     "execution_count": 6,
     "metadata": {},
     "output_type": "execute_result"
    }
   ],
   "source": [
    "# It's meaningful to determine the duplicate calues.\n",
    "\n",
    "aviation.duplicated().sum()  # Here, we used duplicated and .sum () methods to show and count number of rows duplicated"
   ]
  },
  {
   "cell_type": "code",
   "execution_count": 7,
   "metadata": {
    "collapsed": true
   },
   "outputs": [
    {
     "name": "stdout",
     "output_type": "stream",
     "text": [
      "<class 'pandas.core.frame.DataFrame'>\n",
      "RangeIndex: 88889 entries, 0 to 88888\n",
      "Data columns (total 31 columns):\n",
      " #   Column                  Non-Null Count  Dtype  \n",
      "---  ------                  --------------  -----  \n",
      " 0   Event.Id                88889 non-null  object \n",
      " 1   Investigation.Type      88889 non-null  object \n",
      " 2   Accident.Number         88889 non-null  object \n",
      " 3   Event.Date              88889 non-null  object \n",
      " 4   Location                88837 non-null  object \n",
      " 5   Country                 88663 non-null  object \n",
      " 6   Latitude                34382 non-null  object \n",
      " 7   Longitude               34373 non-null  object \n",
      " 8   Airport.Code            50249 non-null  object \n",
      " 9   Airport.Name            52790 non-null  object \n",
      " 10  Injury.Severity         87889 non-null  object \n",
      " 11  Aircraft.damage         85695 non-null  object \n",
      " 12  Aircraft.Category       32287 non-null  object \n",
      " 13  Registration.Number     87572 non-null  object \n",
      " 14  Make                    88826 non-null  object \n",
      " 15  Model                   88797 non-null  object \n",
      " 16  Amateur.Built           88787 non-null  object \n",
      " 17  Number.of.Engines       82805 non-null  float64\n",
      " 18  Engine.Type             81812 non-null  object \n",
      " 19  FAR.Description         32023 non-null  object \n",
      " 20  Schedule                12582 non-null  object \n",
      " 21  Purpose.of.flight       82697 non-null  object \n",
      " 22  Air.carrier             16648 non-null  object \n",
      " 23  Total.Fatal.Injuries    77488 non-null  float64\n",
      " 24  Total.Serious.Injuries  76379 non-null  float64\n",
      " 25  Total.Minor.Injuries    76956 non-null  float64\n",
      " 26  Total.Uninjured         82977 non-null  float64\n",
      " 27  Weather.Condition       84397 non-null  object \n",
      " 28  Broad.phase.of.flight   61724 non-null  object \n",
      " 29  Report.Status           82508 non-null  object \n",
      " 30  Publication.Date        75118 non-null  object \n",
      "dtypes: float64(5), object(26)\n",
      "memory usage: 21.0+ MB\n"
     ]
    }
   ],
   "source": [
    "# now, i used .info() to get a brief description of the data\n",
    "aviation.info()"
   ]
  },
  {
   "cell_type": "markdown",
   "metadata": {},
   "source": [
    "#### state_us DataFrame over view"
   ]
  },
  {
   "cell_type": "code",
   "execution_count": 7,
   "metadata": {
    "collapsed": true
   },
   "outputs": [
    {
     "data": {
      "text/html": [
       "<div>\n",
       "<style scoped>\n",
       "    .dataframe tbody tr th:only-of-type {\n",
       "        vertical-align: middle;\n",
       "    }\n",
       "\n",
       "    .dataframe tbody tr th {\n",
       "        vertical-align: top;\n",
       "    }\n",
       "\n",
       "    .dataframe thead th {\n",
       "        text-align: right;\n",
       "    }\n",
       "</style>\n",
       "<table border=\"1\" class=\"dataframe\">\n",
       "  <thead>\n",
       "    <tr style=\"text-align: right;\">\n",
       "      <th></th>\n",
       "      <th>US_State</th>\n",
       "      <th>Abbreviation</th>\n",
       "    </tr>\n",
       "  </thead>\n",
       "  <tbody>\n",
       "    <tr>\n",
       "      <th>0</th>\n",
       "      <td>Alabama</td>\n",
       "      <td>AL</td>\n",
       "    </tr>\n",
       "    <tr>\n",
       "      <th>1</th>\n",
       "      <td>Alaska</td>\n",
       "      <td>AK</td>\n",
       "    </tr>\n",
       "    <tr>\n",
       "      <th>2</th>\n",
       "      <td>Arizona</td>\n",
       "      <td>AZ</td>\n",
       "    </tr>\n",
       "    <tr>\n",
       "      <th>3</th>\n",
       "      <td>Arkansas</td>\n",
       "      <td>AR</td>\n",
       "    </tr>\n",
       "    <tr>\n",
       "      <th>4</th>\n",
       "      <td>California</td>\n",
       "      <td>CA</td>\n",
       "    </tr>\n",
       "  </tbody>\n",
       "</table>\n",
       "</div>"
      ],
      "text/plain": [
       "     US_State Abbreviation\n",
       "0     Alabama           AL\n",
       "1      Alaska           AK\n",
       "2     Arizona           AZ\n",
       "3    Arkansas           AR\n",
       "4  California           CA"
      ]
     },
     "execution_count": 7,
     "metadata": {},
     "output_type": "execute_result"
    }
   ],
   "source": [
    "# Now time to get a brief overview of the State_us\n",
    "\n",
    "state_us.head()   # with this code, I show the first 5 records of the state_us DataFrame"
   ]
  },
  {
   "cell_type": "code",
   "execution_count": 8,
   "metadata": {},
   "outputs": [
    {
     "data": {
      "text/plain": [
       "(62, 2)"
      ]
     },
     "execution_count": 8,
     "metadata": {},
     "output_type": "execute_result"
    }
   ],
   "source": [
    "# A look of the State_us' dimension buy using\n",
    "\n",
    "state_us.shape # We use .shape to show the dimension of the DataFrame"
   ]
  },
  {
   "cell_type": "code",
   "execution_count": 9,
   "metadata": {
    "collapsed": true
   },
   "outputs": [
    {
     "data": {
      "text/plain": [
       "Index(['US_State', 'Abbreviation'], dtype='object')"
      ]
     },
     "execution_count": 9,
     "metadata": {},
     "output_type": "execute_result"
    }
   ],
   "source": [
    "# Display columns' names of state_us\n",
    "\n",
    "state_us.columns"
   ]
  },
  {
   "cell_type": "markdown",
   "metadata": {},
   "source": [
    "#### Feature Overview of the aviation Dataframe\n",
    "\n",
    "Currently, in this section of the data understanding, i'm going to look and understand the columns of the the dataset\n",
    "- Identify data types of columns\n",
    "- Identify missing values by using and duplicate value \n",
    "- Check some Dataframe series\n"
   ]
  },
  {
   "cell_type": "code",
   "execution_count": 10,
   "metadata": {
    "collapsed": true
   },
   "outputs": [
    {
     "data": {
      "text/plain": [
       "['Event.Id',\n",
       " 'Investigation.Type',\n",
       " 'Accident.Number',\n",
       " 'Event.Date',\n",
       " 'Location',\n",
       " 'Country',\n",
       " 'Latitude',\n",
       " 'Longitude',\n",
       " 'Airport.Code',\n",
       " 'Airport.Name',\n",
       " 'Injury.Severity',\n",
       " 'Aircraft.damage',\n",
       " 'Aircraft.Category',\n",
       " 'Registration.Number',\n",
       " 'Make',\n",
       " 'Model',\n",
       " 'Amateur.Built',\n",
       " 'Number.of.Engines',\n",
       " 'Engine.Type',\n",
       " 'FAR.Description',\n",
       " 'Schedule',\n",
       " 'Purpose.of.flight',\n",
       " 'Air.carrier',\n",
       " 'Total.Fatal.Injuries',\n",
       " 'Total.Serious.Injuries',\n",
       " 'Total.Minor.Injuries',\n",
       " 'Total.Uninjured',\n",
       " 'Weather.Condition',\n",
       " 'Broad.phase.of.flight',\n",
       " 'Report.Status',\n",
       " 'Publication.Date']"
      ]
     },
     "execution_count": 10,
     "metadata": {},
     "output_type": "execute_result"
    }
   ],
   "source": [
    "# Display the list of the columns :\n",
    "\n",
    "list(aviation.columns) # I used the list() functin to return it into a list"
   ]
  },
  {
   "cell_type": "code",
   "execution_count": 11,
   "metadata": {
    "collapsed": true
   },
   "outputs": [
    {
     "name": "stdout",
     "output_type": "stream",
     "text": [
      "<class 'pandas.core.frame.DataFrame'>\n",
      "RangeIndex: 88889 entries, 0 to 88888\n",
      "Data columns (total 31 columns):\n",
      " #   Column                  Non-Null Count  Dtype  \n",
      "---  ------                  --------------  -----  \n",
      " 0   Event.Id                88889 non-null  object \n",
      " 1   Investigation.Type      88889 non-null  object \n",
      " 2   Accident.Number         88889 non-null  object \n",
      " 3   Event.Date              88889 non-null  object \n",
      " 4   Location                88837 non-null  object \n",
      " 5   Country                 88663 non-null  object \n",
      " 6   Latitude                34382 non-null  object \n",
      " 7   Longitude               34373 non-null  object \n",
      " 8   Airport.Code            50249 non-null  object \n",
      " 9   Airport.Name            52790 non-null  object \n",
      " 10  Injury.Severity         87889 non-null  object \n",
      " 11  Aircraft.damage         85695 non-null  object \n",
      " 12  Aircraft.Category       32287 non-null  object \n",
      " 13  Registration.Number     87572 non-null  object \n",
      " 14  Make                    88826 non-null  object \n",
      " 15  Model                   88797 non-null  object \n",
      " 16  Amateur.Built           88787 non-null  object \n",
      " 17  Number.of.Engines       82805 non-null  float64\n",
      " 18  Engine.Type             81812 non-null  object \n",
      " 19  FAR.Description         32023 non-null  object \n",
      " 20  Schedule                12582 non-null  object \n",
      " 21  Purpose.of.flight       82697 non-null  object \n",
      " 22  Air.carrier             16648 non-null  object \n",
      " 23  Total.Fatal.Injuries    77488 non-null  float64\n",
      " 24  Total.Serious.Injuries  76379 non-null  float64\n",
      " 25  Total.Minor.Injuries    76956 non-null  float64\n",
      " 26  Total.Uninjured         82977 non-null  float64\n",
      " 27  Weather.Condition       84397 non-null  object \n",
      " 28  Broad.phase.of.flight   61724 non-null  object \n",
      " 29  Report.Status           82508 non-null  object \n",
      " 30  Publication.Date        75118 non-null  object \n",
      "dtypes: float64(5), object(26)\n",
      "memory usage: 21.0+ MB\n"
     ]
    }
   ],
   "source": [
    "# display a global information of the Aviation Dataset\n",
    "\n",
    "aviation.info()"
   ]
  },
  {
   "cell_type": "code",
   "execution_count": 12,
   "metadata": {
    "collapsed": true
   },
   "outputs": [
    {
     "data": {
      "text/plain": [
       "Schedule                  76307\n",
       "Air.carrier               72241\n",
       "FAR.Description           56866\n",
       "Aircraft.Category         56602\n",
       "Longitude                 54516\n",
       "Latitude                  54507\n",
       "Airport.Code              38640\n",
       "Airport.Name              36099\n",
       "Broad.phase.of.flight     27165\n",
       "Publication.Date          13771\n",
       "Total.Serious.Injuries    12510\n",
       "Total.Minor.Injuries      11933\n",
       "Total.Fatal.Injuries      11401\n",
       "Engine.Type                7077\n",
       "Report.Status              6381\n",
       "Purpose.of.flight          6192\n",
       "Number.of.Engines          6084\n",
       "Total.Uninjured            5912\n",
       "Weather.Condition          4492\n",
       "Aircraft.damage            3194\n",
       "Registration.Number        1317\n",
       "Injury.Severity            1000\n",
       "Country                     226\n",
       "Amateur.Built               102\n",
       "Model                        92\n",
       "Make                         63\n",
       "Location                     52\n",
       "Event.Date                    0\n",
       "Accident.Number               0\n",
       "Investigation.Type            0\n",
       "Event.Id                      0\n",
       "dtype: int64"
      ]
     },
     "execution_count": 12,
     "metadata": {},
     "output_type": "execute_result"
    }
   ],
   "source": [
    "# look for columns that contain missing values with sina().sum()\n",
    "\n",
    "# i used isna() to reavel True if there's a missing avlue, and count number of missing values \n",
    "# in each column of Aviation DataFrame, and after that i sort it in descending order\n",
    "\n",
    "aviation.isna().sum().sort_values(ascending = False)"
   ]
  },
  {
   "cell_type": "code",
   "execution_count": 12,
   "metadata": {
    "collapsed": true
   },
   "outputs": [
    {
     "data": {
      "text/plain": [
       "False    88889\n",
       "dtype: int64"
      ]
     },
     "execution_count": 12,
     "metadata": {},
     "output_type": "execute_result"
    }
   ],
   "source": [
    "# Identify duplicate values and count the amount of duplicate values\n",
    "\n",
    "aviation.duplicated().value_counts()"
   ]
  },
  {
   "cell_type": "markdown",
   "metadata": {},
   "source": [
    "#### Checking out some Pandas series\n",
    "\n",
    "This is important to examine some Pandas series of my **aviation** DataFrame.  \n",
    "Thus, I'm going to deeply look at some of them here.\n",
    "To do that,  I will certainly use :\n",
    "- `.value_counts()` to count the frequency of each category of the serie\n",
    "- `.unique()` to return the all the unique categoris of the serie"
   ]
  },
  {
   "cell_type": "code",
   "execution_count": 13,
   "metadata": {
    "collapsed": true
   },
   "outputs": [
    {
     "data": {
      "text/plain": [
       "United States             92.764738\n",
       "Brazil                     0.421822\n",
       "Canada                     0.404904\n",
       "Mexico                     0.403776\n",
       "United Kingdom             0.387986\n",
       "                            ...    \n",
       "Palau                      0.001128\n",
       "Bosnia And Herzegovina     0.001128\n",
       "Cambodia                   0.001128\n",
       "Benin                      0.001128\n",
       "Malampa                    0.001128\n",
       "Name: Country, Length: 219, dtype: float64"
      ]
     },
     "execution_count": 13,
     "metadata": {},
     "output_type": "execute_result"
    }
   ],
   "source": [
    "# I'm showing each category of the Country variable as well as their respective frequency\n",
    "\n",
    "# I pass normalize as in argument, and thereafter \n",
    "# multiply it by 100 to get the value in percentage.\n",
    "\n",
    "aviation['Country'].value_counts(normalize = True)*100 "
   ]
  },
  {
   "cell_type": "code",
   "execution_count": 14,
   "metadata": {
    "collapsed": true
   },
   "outputs": [
    {
     "data": {
      "text/plain": [
       "VMC    91.594488\n",
       "IMC     7.080820\n",
       "UNK     1.014254\n",
       "Unk     0.310438\n",
       "Name: Weather.Condition, dtype: float64"
      ]
     },
     "execution_count": 14,
     "metadata": {},
     "output_type": "execute_result"
    }
   ],
   "source": [
    "# count the frequency of each category of Weather.condition\n",
    "\n",
    "aviation['Weather.Condition'].value_counts(normalize = True)*100"
   ]
  },
  {
   "cell_type": "code",
   "execution_count": 15,
   "metadata": {
    "collapsed": true
   },
   "outputs": [
    {
     "data": {
      "text/plain": [
       "Substantial    74.856176\n",
       "Destroyed      21.731723\n",
       "Minor           3.273236\n",
       "Unknown         0.138865\n",
       "Name: Aircraft.damage, dtype: float64"
      ]
     },
     "execution_count": 15,
     "metadata": {},
     "output_type": "execute_result"
    }
   ],
   "source": [
    "# count the frequency of each category of Aircraft.damage\n",
    "\n",
    "aviation['Aircraft.damage'].value_counts(normalize = True)*100"
   ]
  },
  {
   "cell_type": "code",
   "execution_count": 17,
   "metadata": {
    "collapsed": true
   },
   "outputs": [
    {
     "data": {
      "text/plain": [
       "152             2.665631\n",
       "172             1.977544\n",
       "172N            1.310855\n",
       "PA-28-140       1.049585\n",
       "150             0.933590\n",
       "                  ...   \n",
       "PA-34-R200      0.001126\n",
       "F.28 MK 4000    0.001126\n",
       "GLASAIR-SHA     0.001126\n",
       "C185F           0.001126\n",
       "208 Caravan     0.001126\n",
       "Name: Model, Length: 12318, dtype: float64"
      ]
     },
     "execution_count": 17,
     "metadata": {},
     "output_type": "execute_result"
    }
   ],
   "source": [
    "# count the frequency of each category of Model\n",
    "\n",
    "aviation['Model'].value_counts(normalize = True)*100"
   ]
  },
  {
   "cell_type": "code",
   "execution_count": 20,
   "metadata": {
    "collapsed": true
   },
   "outputs": [
    {
     "data": {
      "text/plain": [
       "Cessna            25.023079\n",
       "Piper             13.542206\n",
       "CESSNA             5.541170\n",
       "Beech              4.874699\n",
       "PIPER              3.198388\n",
       "                    ...    \n",
       "Mitteer            0.001126\n",
       "Alon Aircoupe      0.001126\n",
       "SUNDT DANIEL N     0.001126\n",
       "Rhea               0.001126\n",
       "BURNS              0.001126\n",
       "Name: Make, Length: 8237, dtype: float64"
      ]
     },
     "execution_count": 20,
     "metadata": {},
     "output_type": "execute_result"
    }
   ],
   "source": [
    "# count the frequency of each category of Make\n",
    "\n",
    "aviation['Make'].value_counts(normalize = True)*100"
   ]
  },
  {
   "cell_type": "code",
   "execution_count": 18,
   "metadata": {
    "collapsed": true
   },
   "outputs": [
    {
     "data": {
      "text/plain": [
       "Accident    95.641755\n",
       "Incident     4.358245\n",
       "Name: Investigation.Type, dtype: float64"
      ]
     },
     "execution_count": 18,
     "metadata": {},
     "output_type": "execute_result"
    }
   ],
   "source": [
    "# count the frequency of each category of Investigation.Type\n",
    "\n",
    "aviation['Investigation.Type'].value_counts(normalize = True)*100"
   ]
  },
  {
   "cell_type": "code",
   "execution_count": 19,
   "metadata": {
    "collapsed": true
   },
   "outputs": [
    {
     "data": {
      "text/plain": [
       "Personal                     59.794188\n",
       "Instructional                12.819087\n",
       "Unknown                       8.225208\n",
       "Aerial Application            5.697909\n",
       "Business                      4.858701\n",
       "Positioning                   1.990399\n",
       "Other Work Use                1.528471\n",
       "Ferry                         0.981898\n",
       "Aerial Observation            0.960132\n",
       "Public Aircraft               0.870648\n",
       "Executive/corporate           0.668706\n",
       "Flight Test                   0.489740\n",
       "Skydiving                     0.220081\n",
       "External Load                 0.148736\n",
       "Public Aircraft - Federal     0.126970\n",
       "Banner Tow                    0.122133\n",
       "Air Race show                 0.119714\n",
       "Public Aircraft - Local       0.089483\n",
       "Public Aircraft - State       0.077391\n",
       "Air Race/show                 0.071345\n",
       "Glider Tow                    0.064089\n",
       "Firefighting                  0.048369\n",
       "Air Drop                      0.013302\n",
       "ASHO                          0.007255\n",
       "PUBS                          0.004837\n",
       "PUBL                          0.001209\n",
       "Name: Purpose.of.flight, dtype: float64"
      ]
     },
     "execution_count": 19,
     "metadata": {},
     "output_type": "execute_result"
    }
   ],
   "source": [
    "# count the frequency of each category of Aircraft.damage\n",
    "\n",
    "aviation['Purpose.of.flight'].value_counts(normalize = True)*100"
   ]
  },
  {
   "cell_type": "code",
   "execution_count": 20,
   "metadata": {
    "collapsed": true
   },
   "outputs": [
    {
     "data": {
      "text/plain": [
       "Airplane             27617\n",
       "Helicopter            3440\n",
       "Glider                 508\n",
       "Balloon                231\n",
       "Gyrocraft              173\n",
       "Weight-Shift           161\n",
       "Powered Parachute       91\n",
       "Ultralight              30\n",
       "Unknown                 14\n",
       "WSFT                     9\n",
       "Powered-Lift             5\n",
       "Blimp                    4\n",
       "UNK                      2\n",
       "Rocket                   1\n",
       "ULTR                     1\n",
       "Name: Aircraft.Category, dtype: int64"
      ]
     },
     "execution_count": 20,
     "metadata": {},
     "output_type": "execute_result"
    }
   ],
   "source": [
    "# count the frequency of each category of Aircraft.Category\n",
    "\n",
    "aviation['Aircraft.Category'].value_counts()"
   ]
  },
  {
   "cell_type": "code",
   "execution_count": 21,
   "metadata": {
    "collapsed": true
   },
   "outputs": [
    {
     "data": {
      "text/plain": [
       "Landing        15428\n",
       "Takeoff        12493\n",
       "Cruise         10269\n",
       "Maneuvering     8144\n",
       "Approach        6546\n",
       "Climb           2034\n",
       "Taxi            1958\n",
       "Descent         1887\n",
       "Go-around       1353\n",
       "Standing         945\n",
       "Unknown          548\n",
       "Other            119\n",
       "Name: Broad.phase.of.flight, dtype: int64"
      ]
     },
     "execution_count": 21,
     "metadata": {},
     "output_type": "execute_result"
    }
   ],
   "source": [
    "# count the frequency of each category of Broad.phase.of.flight\n",
    "\n",
    "aviation['Broad.phase.of.flight'].value_counts()"
   ]
  },
  {
   "cell_type": "code",
   "execution_count": 22,
   "metadata": {
    "collapsed": true
   },
   "outputs": [
    {
     "data": {
      "text/plain": [
       "False    61724\n",
       "True     27165\n",
       "Name: Broad.phase.of.flight, dtype: int64"
      ]
     },
     "execution_count": 22,
     "metadata": {},
     "output_type": "execute_result"
    }
   ],
   "source": [
    "aviation['Broad.phase.of.flight'].isna().value_counts()"
   ]
  },
  {
   "cell_type": "code",
   "execution_count": null,
   "metadata": {},
   "outputs": [],
   "source": []
  },
  {
   "cell_type": "markdown",
   "metadata": {},
   "source": [
    "## Data Preparation\n",
    "---\n",
    " Here we go !\n",
    " Now i'm about to prepare the data for analysis. As I've seen above, the raw **aviation** DataFrame, needs being cleaned. In fact, it contains \n",
    "- many columns with missing values\n",
    "- columns with inapproriate datatypes\n",
    "- columns with miswritten category, and so on.  \n",
    "\n",
    "As a result, Through the process of preparing the Data, I'm going to do the :\n",
    " \n",
    " 1. ### Data cleaning\n",
    "     - #### Deal with columns\n",
    "     - #### Handle missing values\n",
    " 2. ### Feature Engineering\n",
    " 3. ### Merging DataFrames"
   ]
  },
  {
   "cell_type": "markdown",
   "metadata": {},
   "source": [
    "1. ### Data cleaning\n",
    "   "
   ]
  },
  {
   "cell_type": "markdown",
   "metadata": {},
   "source": [
    "#### Deal with columns properly \n",
    "\n",
    "Here we are going to focus on each columns in order to **keep** or to **drop** with the `.Drop()` method\n",
    "\n",
    "Then, i'm going to :\n",
    "- #### Drop less useful columns for this analysis\n",
    "- #### Use appropriate name for each columns\n",
    "- #### change the data type of columns if necessary"
   ]
  },
  {
   "cell_type": "code",
   "execution_count": 252,
   "metadata": {},
   "outputs": [
    {
     "data": {
      "text/plain": [
       "Index(['investigation_type', 'event_date', 'location', 'country',\n",
       "       'injury_severity', 'aircraft_damage', 'make', 'amateur_built',\n",
       "       'number_of_engines', 'engine_type', 'purpose_of_flight',\n",
       "       'total_fatal_injuries', 'total_serious_injuries',\n",
       "       'total_minor_injuries', 'total_uninjured', 'weather_condition',\n",
       "       'broad_phase_of_flight'],\n",
       "      dtype='object')"
      ]
     },
     "execution_count": 252,
     "metadata": {},
     "output_type": "execute_result"
    }
   ],
   "source": [
    "# This time to drop less useful columns from my Aviation dataset\n",
    "\n",
    "# I creat a dropcol list that contains all columns that are worth droping\n",
    "\n",
    "dropcol = ['Air.carrier', 'FAR.Description','Longitude','Latitude', 'Airport.Code','Schedule',\\\n",
    "           'Publication.Date','Event.Id','Aircraft.Category', 'Accident.Number', 'Airport.Name',\\\n",
    "           'FAR.Description', 'Report.Status','Registration.Number', 'Model'] \n",
    "\n",
    "# Here, I drop the columns and update the aviation dataset simultaneously\n",
    "aviation.drop(dropcol, axis = 1, inplace = True)\n",
    "\n",
    "# Here, this is the more appropriate moment to clean the names of columns in a pythonic way.\n",
    "aviation.columns = aviation.columns.str.replace('.', '_', regex=False).str.replace(' ', '', regex=False).str.lower()\n",
    "\n",
    "# Just to show the cleaned names of columns now :\n",
    "aviation.columns\n"
   ]
  },
  {
   "cell_type": "code",
   "execution_count": 254,
   "metadata": {},
   "outputs": [],
   "source": [
    "## Changing data Type of the Publication.date and Event.date to datetime format\n",
    "\n",
    "aviation['event_date'] = pd.to_datetime(aviation['event_date'] )"
   ]
  },
  {
   "cell_type": "markdown",
   "metadata": {},
   "source": [
    " #### Handle Missing Values\n",
    " \n",
    " To handle missing values, i'll used these two methods  `.dropna()` and `.fillna ()`.\n",
    " Moreover, i will deal with \n",
    " \n",
    " - **Numerical varibale** firstly, by imputing the `Median` or the `Mean`.  \n",
    " - **Categorical variable** lastly, by imputing the `Mode`."
   ]
  },
  {
   "cell_type": "code",
   "execution_count": 255,
   "metadata": {},
   "outputs": [],
   "source": [
    "# Dealing with missing values in categorical variable !\n",
    "\n",
    "# first this I create the list of the numerical columns that i'm going to impute value in\n",
    "\n",
    "imputecol = ['total_fatal_injuries', 'total_serious_injuries',\n",
    "             'total_minor_injuries','total_uninjured','number_of_engines' ]\n",
    "\n",
    "# now i use a for loop to compute the median of each column and replace the missing value with it\n",
    "\n",
    "for col in imputecol :\n",
    "    median_value = aviation[col].median()\n",
    "    aviation[col].fillna(median_value, inplace=True)"
   ]
  },
  {
   "cell_type": "code",
   "execution_count": 256,
   "metadata": {
    "collapsed": true
   },
   "outputs": [
    {
     "data": {
      "text/plain": [
       "investigation_type        0\n",
       "event_date                0\n",
       "location                  0\n",
       "country                   0\n",
       "injury_severity           0\n",
       "aircraft_damage           0\n",
       "make                      0\n",
       "amateur_built             0\n",
       "number_of_engines         0\n",
       "engine_type               0\n",
       "purpose_of_flight         0\n",
       "total_fatal_injuries      0\n",
       "total_serious_injuries    0\n",
       "total_minor_injuries      0\n",
       "total_uninjured           0\n",
       "weather_condition         0\n",
       "broad_phase_of_flight     0\n",
       "dtype: int64"
      ]
     },
     "execution_count": 256,
     "metadata": {},
     "output_type": "execute_result"
    }
   ],
   "source": [
    "# Dealing with missing values in categorical variable !\n",
    "\n",
    "# first im going to identify missing value \n",
    "\n",
    "cols_toclean = ['country', 'injury_severity', 'aircraft_damage', 'make', 'amateur_built',\n",
    "                'engine_type', 'purpose_of_flight','location', 'weather_condition', 'broad_phase_of_flight']\n",
    "\n",
    "custom_missing = ['UNK','Unknown','UNKNOWN','Unavailable','None', 'Unk',\n",
    "                  'MISSING','Missing' ,'NONE','N/A','NaN', 'nan', '?' ]\n",
    "\n",
    "# Standardize missing-like strings and impute with mode\n",
    "for col in cols_toclean :\n",
    "    \n",
    "    # Replace custom missing strings with np.nan\n",
    "    aviation[col] = aviation[col].replace(custom_missing , np.nan)\n",
    "    \n",
    "    # Fill missing values with the mode of the column\n",
    "    mode_value = aviation[col].mode()[0]\n",
    "    aviation[col] = aviation[col].fillna(mode_value)\n",
    "\n",
    "    \n",
    "# To show the amount of missing values\n",
    "aviation.isna().sum()"
   ]
  },
  {
   "cell_type": "code",
   "execution_count": 178,
   "metadata": {
    "collapsed": true
   },
   "outputs": [
    {
     "data": {
      "text/plain": [
       "VMC    82651\n",
       "IMC     5976\n",
       "Unk      262\n",
       "Name: weather_condition, dtype: int64"
      ]
     },
     "execution_count": 178,
     "metadata": {},
     "output_type": "execute_result"
    }
   ],
   "source": [
    "aviation['weather_condition'].value_counts()"
   ]
  },
  {
   "cell_type": "markdown",
   "metadata": {},
   "source": [
    "### Feature Engineering\n",
    "\n",
    "Here, This is the best moment to exploring deeper the feature of the Dataset. \n",
    "in order to be more accurate, i'm going to :\n",
    "\n",
    "- Add new column if necessary\n",
    "- Standardize categorical of necessary column"
   ]
  },
  {
   "cell_type": "code",
   "execution_count": 257,
   "metadata": {
    "scrolled": true
   },
   "outputs": [],
   "source": [
    "# I'm going to extract the Location Id from the location column, \n",
    "# and add a new column name State_Id with the result\n",
    "\n",
    "# I used str to allow me to use string methods with pandas series\n",
    "# split() is used to split each row of the column at the comma, and turning to a list\n",
    "# str[1] to select the second of the list.(after the comma), and striP() to remove extra whitespaces\n",
    "\n",
    "aviation['location_id'] =  aviation['location'].str.split(',').str[1].str.strip() \n",
    "\n",
    "# Now, I move the location to the first column of the DataFrame\n",
    "# pop() to remove Location_id and insert()  to insert it at the new position.\n",
    "aviation.insert(0, 'location_id', aviation.pop('location_id'))\n",
    "\n",
    "# convert the categories of the variable make to loowercae\n",
    "aviation['make'] = aviation['make'].str.lower()\n",
    "       \n",
    "                                               \n",
    "# now, it's necessary to drop the location column\n",
    "aviation.drop('location',axis=1, inplace = True)"
   ]
  },
  {
   "cell_type": "code",
   "execution_count": 36,
   "metadata": {
    "collapsed": true
   },
   "outputs": [
    {
     "data": {
      "text/plain": [
       "array(['ID', 'CA', 'VA', 'OH', 'MA', 'MN', 'WA', 'NJ', 'FL', 'NM', 'AL',\n",
       "       'LA', 'TX', 'OK', 'AR', 'UT', 'AK', 'PA', 'MI', 'GA', 'NC', 'NY',\n",
       "       'MT', 'OR', 'NV', 'IN', nan, 'AZ', 'MO', 'WY', 'IL', 'SC', 'MD',\n",
       "       'HI', 'CO', 'WV', 'MS', 'DC', 'VT', 'KS', 'NH', 'IA', 'WI', 'KY',\n",
       "       'CT', 'TN', 'ME', 'SD', 'NE', 'RI', 'ND', 'DE', 'Bahamas',\n",
       "       'BAHAMAS', 'HONOLULU', 'OAHU', 'Angola', 'GERMANY', 'PR', 'Korea',\n",
       "       \"MANU'A\", 'AMERICAN SAMOA', 'Canada', 'Bolivia', 'MAUI', 'Mexico',\n",
       "       'DOMINICA', 'Netherlands Antilles', 'Iceland', 'GREECE',\n",
       "       'AUSTRALIA', 'WEST INDIES', 'JAPAN', 'CANADA', 'GU', 'PHILIPPINES',\n",
       "       'MEXICO', 'Venezuela', 'Germany', 'Bermuda', 'KAUAI', 'COLOMBIA',\n",
       "       'EL SALVADOR', 'West Indies', 'United Kingdom',\n",
       "       'BRITISH VIRGIN ISLANDS', 'Netherlands', 'Costa Rica',\n",
       "       'Mozambique', 'NETHERLANDS ANTILLES', 'Japan', 'Jamaica',\n",
       "       'American Samoa', 'PANAMA', 'Guyana', 'COSTA RICA', 'Norway',\n",
       "       'Panama', 'PO', 'Portugal', 'Malaysia', 'TURKS AND CAICOS ISLANDS',\n",
       "       'NORTHERN MARIANA ISLANDS', 'Dominican Republic', 'Suriname',\n",
       "       'Turks And Caicos Islands', 'ANGOLA', 'Honduras', 'MOLOKAI',\n",
       "       'CONGO', 'Belize', 'Guatemala', 'DOMINICAN REPUBLIC', 'BELIZE',\n",
       "       'France', 'ST VINCENT AND THE GRENADINES', 'Haiti', 'JAMAICA',\n",
       "       'Papua New Guinea', 'Cayman Islands', 'Northern Mariana Islands',\n",
       "       'Sweden', 'Taiwan', 'Senegal', 'Barbados', 'Brazil', 'FRANCE',\n",
       "       'HONDURAS', 'Mauritius', 'Colombia', 'ARGENTINA', 'Kenya',\n",
       "       'Argentina', 'Ecuador', 'ARUBA', 'SAUDI ARABIA', 'Cuba', 'Italy',\n",
       "       'French Guiana', 'Congo', 'DENMARK', 'SUDAN', 'SPAIN',\n",
       "       'UNITED KINGDOM', 'FEDERATED STATES OF MICRONESIA', 'St Lucia',\n",
       "       'Spain', 'VENEZUELA', 'Central African Republic', 'Algeria',\n",
       "       'Turkey', 'NICARAGUA', 'BRAZIL', 'Australia', 'HAITI',\n",
       "       'Marshall Islands', 'El Salvador', 'Switzerland',\n",
       "       'Trinidad And Tobago', 'Poland', 'Belarus', 'TRINIDAD AND TOBAGO',\n",
       "       'Austria', 'Malta', 'Cameroon', 'Solomon Islands', 'Peru',\n",
       "       'Philippines', 'Croatia', 'GUATEMALA', 'MARTINIQUE', 'GM',\n",
       "       'BOLIVIA', 'South Africa', 'India', 'Ethiopia', 'Ireland', 'PERU',\n",
       "       'Aruba', 'CHILE', 'ANTIGUA AND BARBUDA', 'UGANDA', 'CHINA',\n",
       "       'China', 'Paraguay', 'Denmark', 'Saudi Arabia', 'MAURITIUS',\n",
       "       'Thailand', 'Belgium', 'Gambia', 'Uruguay', 'URUGUAY', 'TANZANIA',\n",
       "       'Mali', 'CAYMAN ISLANDS', 'NETHERLANDS', 'BAHRAIN', 'Chile',\n",
       "       'Kazakhstan', 'KAZAKHSTAN', 'ETHIOPIA', 'CUBA', 'EGYPT', 'INDIA',\n",
       "       'Russia', 'Cyprus', 'Greenland', 'KOREA', 'Dominica',\n",
       "       'New Zealand', 'Tanzania', 'ECUADOR', 'MOZAMBIQUE', 'ITALY',\n",
       "       'Indonesia', 'Ghana', 'Gabon', 'Nepal', 'SLOVAKIA', 'IRELAND',\n",
       "       'PORTUGAL', 'Nicaragua', 'Liberia', 'FINLAND', 'TAIWAN', 'Romania',\n",
       "       'THAILAND', 'MARSHALL ISLANDS', 'Maldives', 'Antarctica',\n",
       "       \"Cote D'ivoire\", 'MALDIVES', 'NEW ZEALAND', 'Zimbabwe',\n",
       "       'Isle of Man', 'TURKEY', 'Federated States Of Micronesia',\n",
       "       'RUSSIA', 'Latvia', 'Egypt', 'AUSTRIA', 'SOUTH AFRICA', 'Bahrain',\n",
       "       'INDONESIA', 'Niger', 'Fiji', 'Uganda', 'FRENCH POLYNESIA',\n",
       "       'ROMANIA', 'Guadeloupe', 'IVORY COAST', 'Finland', 'BC', 'AO',\n",
       "       'NSW', 'Vietnam', 'ONTARIO', 'SWITZERLAND', 'TUNISIA', 'SWEDEN',\n",
       "       'ERITREA', 'NORWAY', 'Man', 'KENYA', 'Nigeria', 'Botswana',\n",
       "       'Sarawak', 'SARAWAK', 'Duarte', 'Tunisia', 'GIBRALTAR', 'Tasmania',\n",
       "       'UN', 'Newfndl', 'SURINAME', 'Oahu', 'NAMIBIA', 'PARAGUAY',\n",
       "       'ANTARCTICA', 'NFLD', 'Greece', 'CZECH REPUBLIC', 'Sudan', 'Kent',\n",
       "       '', 'Kauai', 'Singapore', 'NIGERIA', 'VI', 'GABON', 'Benin',\n",
       "       'Bosnia And Herzegovina', 'MALAYSIA', 'Israel', 'Estonia',\n",
       "       'ST KITTS AND NEVIS', 'SIERRA LEONE', 'Czech Republic', 'Corsica',\n",
       "       'Zambia', 'Scotland', 'Scot', 'Reunion', 'UNITED ARAB EMIRATES',\n",
       "       'Afghanistan', 'Ukraine', 'Hungary', 'Papua', 'The Netherlands',\n",
       "       'BANGLADESH', 'Alberta', 'POLAND', 'Co Galway', 'NS', 'Morocco',\n",
       "       'Namibia', 'KENT', 'Murcia', 'TASMANIA', 'Iraq', 'Jordan',\n",
       "       'United Arab Emirates', 'ALBERTA', 'Pakistan', 'SK', 'Qatar',\n",
       "       'NYC', 'Madagascar', 'Torino', 'GUADELOUPE', 'Malawi', 'SCOTLAND',\n",
       "       'GREENLAND', 'BOLIVAR', 'County Clare', 'Unknown', 'VIC',\n",
       "       'French Polynesia', 'Okinawa', 'UKRAINE', 'PNG', 'Bangladesh',\n",
       "       'Ke', 'Bahia', 'Central Africa', 'South Sudan', 'Saint Barthelemy',\n",
       "       'Micronesia (Federated States of)', 'South Korea',\n",
       "       'South Kalimantan', 'Las Americas', 'Kyrgyzstan',\n",
       "       'Turks And Caicos', 'Serbia', 'Eswatini', 'Bali', 'Manaus',\n",
       "       'Tokelau', 'England', 'San Juan Is.', 'Netherlands (the)',\n",
       "       'Sint Maarten', 'Newfoundland', 'Macao', 'Hampshire', 'Bandundu',\n",
       "       'OF', 'Maranhao', 'Taiwan (Province of China)', 'Seychelles',\n",
       "       'Trapani', 'New South Wales', 'Bonaire',\n",
       "       'Bolivia (Plurinational State of)', 'Rwanda', 'Maui', 'Palau',\n",
       "       'Luxembourg', 'Lebanon', 'UK', 'Montemor-o-Novo',\n",
       "       'Bosnia and Herzegovina', 'Libya', 'Bolivar', 'Hong Kong',\n",
       "       'Guinea', 'Saint Vincent and the Grenadines', 'Gemeinde Saanen',\n",
       "       'Para', 'Adriatic Sea', 'Ontario', 'Iran (Islamic Republic of)',\n",
       "       'Solola', 'Lithuania', 'Perugia', 'British Columbia', 'Teruel',\n",
       "       'Saskatchewan', 'Tiquisate', 'West Sumatera', 'Belium', 'Victoria',\n",
       "       'Vanuatu', 'West Papua', 'Carabobo', 'Antigua and Barbuda',\n",
       "       'West Nusa', 'NT', 'Xakanaka', 'Caribbean Sea', 'AY', 'Tachira',\n",
       "       'Wales', 'Veracruz', 'Coahuila', 'Fribourg', 'Cheshire',\n",
       "       'Taiwan R.O.C.', 'Santa Fe', 'Cedros', 'Unkown', 'Jalisco',\n",
       "       'Canton of Obwalden', 'Thane District', 'BCS',\n",
       "       'Mato Grosso do Sul', 'Norfolk', 'Warwickshire', 'Cayenne',\n",
       "       'P.R. China', 'Municipio de Calima', 'Tatarstan', 'Reunion Island',\n",
       "       'Buckingham', 'New Caledonia', 'Yemen', 'Pastaza', 'Vargas',\n",
       "       'State of Parana', 'N Ireland', 'Tipperary', 'Moste',\n",
       "       'Kampung Pasir baru', 'Corse-du-Sud', 'Minas Gerais', 'Nauru',\n",
       "       'Republic of Korea', 'Niue', 'Churchinford', 'Slovenia',\n",
       "       'Western Cape Province', 'Choco', 'Limpopo Province', 'Dgo',\n",
       "       'Lleida', 'Bulgaria', 'Hesse', 'near Port John', 'East Sussex',\n",
       "       'Macedonia', 'Nakuru County', 'Pest', 'North West Province',\n",
       "       'Cajamarca', 'Goa', 'Virgin Islands (British)', 'Sonora', 'Quebec',\n",
       "       'Oksibil', 'Slovakia', 'Puntarenas', 'Somalia', 'Gwynedd',\n",
       "       'Yucatan', 'State', 'Chihuahua', 'New Hampshire', 'Dubai',\n",
       "       'OF Obyan', 'Queensland', 'QLD', 'Nandayure', 'Taipei',\n",
       "       'Isle of Wight', 'Worcestershire', 'Mauritania',\n",
       "       'Plzen - Skvrnany', 'Sinaloa-Mexico', 'Osaka', 'Magdalena',\n",
       "       'State of Puebla', 'Albania', 'State of Para', 'Kericho', 'CYTS',\n",
       "       'State of Rio Grande do sul', 'Czech Republic.',\n",
       "       'Republic of North Macedonia', 'Dorset', 'NL',\n",
       "       'Mexico (jjc airport)', 'Canada)', 'Kent-UK', 'Stickhome',\n",
       "       'Cakaudrove', 'Morona Santiago', 'Mallorca', 'Chiapas', 'GO',\n",
       "       'Krk Island', 'Gloucestershire', 'Anglesey', 'SP', 'Cerro Largo',\n",
       "       'Hokkaido', 'Province of Puntarenas', 'Michoacan', 'Mex.',\n",
       "       'Harston', 'Bentwood', 'Eastern Samar', 'Rio Claro', 'MG',\n",
       "       'Shizuoka', 'Port Klang', 'ES', 'Sinaloa', 'Herefordshire', 'CB',\n",
       "       'OSA', 'Queretaro', 'Jujuy Province', 'Wallis and Futuna',\n",
       "       'Ucayali', 'Cundinamrca', 'Casanare', 'South China Sea',\n",
       "       'Villavicencio', 'Poole', 'Kentu', 'Co. Wexford',\n",
       "       'Ibague \\x96 Tolima', 'Columbia', 'Abaco', 'BA', 'Irelan',\n",
       "       'Guajira', 'Somerset', 'vor Ventspils', 'Reggio Emilia',\n",
       "       'Ishikawa', 'Buenos Aires'], dtype=object)"
      ]
     },
     "execution_count": 36,
     "metadata": {},
     "output_type": "execute_result"
    }
   ],
   "source": [
    "# it's relevant now, to explore wich unique value that location_id contains\n",
    "\n",
    "aviation.location_id.unique()"
   ]
  },
  {
   "cell_type": "code",
   "execution_count": 258,
   "metadata": {
    "collapsed": true
   },
   "outputs": [
    {
     "data": {
      "text/html": [
       "<div>\n",
       "<style scoped>\n",
       "    .dataframe tbody tr th:only-of-type {\n",
       "        vertical-align: middle;\n",
       "    }\n",
       "\n",
       "    .dataframe tbody tr th {\n",
       "        vertical-align: top;\n",
       "    }\n",
       "\n",
       "    .dataframe thead th {\n",
       "        text-align: right;\n",
       "    }\n",
       "</style>\n",
       "<table border=\"1\" class=\"dataframe\">\n",
       "  <thead>\n",
       "    <tr style=\"text-align: right;\">\n",
       "      <th></th>\n",
       "      <th>location_id</th>\n",
       "      <th>investigation_type</th>\n",
       "      <th>event_date</th>\n",
       "      <th>country</th>\n",
       "      <th>injury_severity</th>\n",
       "      <th>aircraft_damage</th>\n",
       "      <th>make</th>\n",
       "      <th>amateur_built</th>\n",
       "      <th>number_of_engines</th>\n",
       "      <th>engine_type</th>\n",
       "      <th>purpose_of_flight</th>\n",
       "      <th>total_fatal_injuries</th>\n",
       "      <th>total_serious_injuries</th>\n",
       "      <th>total_minor_injuries</th>\n",
       "      <th>total_uninjured</th>\n",
       "      <th>weather_condition</th>\n",
       "      <th>broad_phase_of_flight</th>\n",
       "      <th>year_event</th>\n",
       "      <th>day_event</th>\n",
       "      <th>month_event</th>\n",
       "    </tr>\n",
       "  </thead>\n",
       "  <tbody>\n",
       "    <tr>\n",
       "      <th>0</th>\n",
       "      <td>ID</td>\n",
       "      <td>Accident</td>\n",
       "      <td>1948-10-24</td>\n",
       "      <td>United States</td>\n",
       "      <td>Fatal(2)</td>\n",
       "      <td>Destroyed</td>\n",
       "      <td>stinson</td>\n",
       "      <td>No</td>\n",
       "      <td>1.0</td>\n",
       "      <td>Reciprocating</td>\n",
       "      <td>Personal</td>\n",
       "      <td>2.0</td>\n",
       "      <td>0.0</td>\n",
       "      <td>0.0</td>\n",
       "      <td>0.0</td>\n",
       "      <td>VMC</td>\n",
       "      <td>Cruise</td>\n",
       "      <td>1948</td>\n",
       "      <td>Sunday</td>\n",
       "      <td>10</td>\n",
       "    </tr>\n",
       "    <tr>\n",
       "      <th>1</th>\n",
       "      <td>CA</td>\n",
       "      <td>Accident</td>\n",
       "      <td>1962-07-19</td>\n",
       "      <td>United States</td>\n",
       "      <td>Fatal(4)</td>\n",
       "      <td>Destroyed</td>\n",
       "      <td>piper</td>\n",
       "      <td>No</td>\n",
       "      <td>1.0</td>\n",
       "      <td>Reciprocating</td>\n",
       "      <td>Personal</td>\n",
       "      <td>4.0</td>\n",
       "      <td>0.0</td>\n",
       "      <td>0.0</td>\n",
       "      <td>0.0</td>\n",
       "      <td>VMC</td>\n",
       "      <td>Landing</td>\n",
       "      <td>1962</td>\n",
       "      <td>Thursday</td>\n",
       "      <td>7</td>\n",
       "    </tr>\n",
       "    <tr>\n",
       "      <th>2</th>\n",
       "      <td>VA</td>\n",
       "      <td>Accident</td>\n",
       "      <td>1974-08-30</td>\n",
       "      <td>United States</td>\n",
       "      <td>Fatal(3)</td>\n",
       "      <td>Destroyed</td>\n",
       "      <td>cessna</td>\n",
       "      <td>No</td>\n",
       "      <td>1.0</td>\n",
       "      <td>Reciprocating</td>\n",
       "      <td>Personal</td>\n",
       "      <td>3.0</td>\n",
       "      <td>0.0</td>\n",
       "      <td>0.0</td>\n",
       "      <td>1.0</td>\n",
       "      <td>IMC</td>\n",
       "      <td>Cruise</td>\n",
       "      <td>1974</td>\n",
       "      <td>Friday</td>\n",
       "      <td>8</td>\n",
       "    </tr>\n",
       "    <tr>\n",
       "      <th>3</th>\n",
       "      <td>CA</td>\n",
       "      <td>Accident</td>\n",
       "      <td>1977-06-19</td>\n",
       "      <td>United States</td>\n",
       "      <td>Fatal(2)</td>\n",
       "      <td>Destroyed</td>\n",
       "      <td>rockwell</td>\n",
       "      <td>No</td>\n",
       "      <td>1.0</td>\n",
       "      <td>Reciprocating</td>\n",
       "      <td>Personal</td>\n",
       "      <td>2.0</td>\n",
       "      <td>0.0</td>\n",
       "      <td>0.0</td>\n",
       "      <td>0.0</td>\n",
       "      <td>IMC</td>\n",
       "      <td>Cruise</td>\n",
       "      <td>1977</td>\n",
       "      <td>Sunday</td>\n",
       "      <td>6</td>\n",
       "    </tr>\n",
       "    <tr>\n",
       "      <th>4</th>\n",
       "      <td>OH</td>\n",
       "      <td>Accident</td>\n",
       "      <td>1979-08-02</td>\n",
       "      <td>United States</td>\n",
       "      <td>Fatal(1)</td>\n",
       "      <td>Destroyed</td>\n",
       "      <td>cessna</td>\n",
       "      <td>No</td>\n",
       "      <td>1.0</td>\n",
       "      <td>Reciprocating</td>\n",
       "      <td>Personal</td>\n",
       "      <td>1.0</td>\n",
       "      <td>2.0</td>\n",
       "      <td>0.0</td>\n",
       "      <td>0.0</td>\n",
       "      <td>VMC</td>\n",
       "      <td>Approach</td>\n",
       "      <td>1979</td>\n",
       "      <td>Thursday</td>\n",
       "      <td>8</td>\n",
       "    </tr>\n",
       "  </tbody>\n",
       "</table>\n",
       "</div>"
      ],
      "text/plain": [
       "  location_id investigation_type event_date        country injury_severity  \\\n",
       "0          ID           Accident 1948-10-24  United States        Fatal(2)   \n",
       "1          CA           Accident 1962-07-19  United States        Fatal(4)   \n",
       "2          VA           Accident 1974-08-30  United States        Fatal(3)   \n",
       "3          CA           Accident 1977-06-19  United States        Fatal(2)   \n",
       "4          OH           Accident 1979-08-02  United States        Fatal(1)   \n",
       "\n",
       "  aircraft_damage      make amateur_built  number_of_engines    engine_type  \\\n",
       "0       Destroyed   stinson            No                1.0  Reciprocating   \n",
       "1       Destroyed     piper            No                1.0  Reciprocating   \n",
       "2       Destroyed    cessna            No                1.0  Reciprocating   \n",
       "3       Destroyed  rockwell            No                1.0  Reciprocating   \n",
       "4       Destroyed    cessna            No                1.0  Reciprocating   \n",
       "\n",
       "  purpose_of_flight  total_fatal_injuries  total_serious_injuries  \\\n",
       "0          Personal                   2.0                     0.0   \n",
       "1          Personal                   4.0                     0.0   \n",
       "2          Personal                   3.0                     0.0   \n",
       "3          Personal                   2.0                     0.0   \n",
       "4          Personal                   1.0                     2.0   \n",
       "\n",
       "   total_minor_injuries  total_uninjured weather_condition  \\\n",
       "0                   0.0              0.0               VMC   \n",
       "1                   0.0              0.0               VMC   \n",
       "2                   0.0              1.0               IMC   \n",
       "3                   0.0              0.0               IMC   \n",
       "4                   0.0              0.0               VMC   \n",
       "\n",
       "  broad_phase_of_flight  year_event day_event  month_event  \n",
       "0                Cruise        1948    Sunday           10  \n",
       "1               Landing        1962  Thursday            7  \n",
       "2                Cruise        1974    Friday            8  \n",
       "3                Cruise        1977    Sunday            6  \n",
       "4              Approach        1979  Thursday            8  "
      ]
     },
     "execution_count": 258,
     "metadata": {},
     "output_type": "execute_result"
    }
   ],
   "source": [
    "# I added two new columns, Year_event and Day_event, to Aviation,\n",
    "# that extract year and weekday respectively from the Event_date column\n",
    "\n",
    "aviation['year_event'] = aviation['event_date'].dt.year\n",
    "aviation['day_event'] = aviation['event_date'].dt.day_name()\n",
    "aviation['month_event'] = aviation['event_date'].dt.month\n",
    "\n",
    "aviation.head()"
   ]
  },
  {
   "cell_type": "code",
   "execution_count": 259,
   "metadata": {
    "collapsed": true
   },
   "outputs": [
    {
     "data": {
      "text/plain": [
       "Non-Fatal    68453\n",
       "Fatal        17826\n",
       "Incident      2219\n",
       "Minor          218\n",
       "Serious        173\n",
       "Name: injury_severity, dtype: int64"
      ]
     },
     "execution_count": 259,
     "metadata": {},
     "output_type": "execute_result"
    }
   ],
   "source": [
    "# Now, i'm cleaning the Injury_severity by standardize the category of it\n",
    "\n",
    "aviation['injury_severity'] = aviation['injury_severity'].str.replace(r\"\\(.*\\)\", \"\", regex=True).str.strip()\n",
    "\n",
    "# Now, i look at each category of the column and their respective frequency\n",
    "aviation['injury_severity'].value_counts()  # just to display the new value of the column\n"
   ]
  },
  {
   "cell_type": "markdown",
   "metadata": {},
   "source": [
    "#### Filter the aviation DataFrame\n",
    "As United States represents more than 90 % records of the aviation DataFrame,  \n",
    "it would be useful to retrieve rows where the country is the United states."
   ]
  },
  {
   "cell_type": "code",
   "execution_count": 260,
   "metadata": {
    "collapsed": true
   },
   "outputs": [
    {
     "data": {
      "text/html": [
       "<div>\n",
       "<style scoped>\n",
       "    .dataframe tbody tr th:only-of-type {\n",
       "        vertical-align: middle;\n",
       "    }\n",
       "\n",
       "    .dataframe tbody tr th {\n",
       "        vertical-align: top;\n",
       "    }\n",
       "\n",
       "    .dataframe thead th {\n",
       "        text-align: right;\n",
       "    }\n",
       "</style>\n",
       "<table border=\"1\" class=\"dataframe\">\n",
       "  <thead>\n",
       "    <tr style=\"text-align: right;\">\n",
       "      <th></th>\n",
       "      <th>location_id</th>\n",
       "      <th>investigation_type</th>\n",
       "      <th>event_date</th>\n",
       "      <th>country</th>\n",
       "      <th>injury_severity</th>\n",
       "      <th>aircraft_damage</th>\n",
       "      <th>make</th>\n",
       "      <th>amateur_built</th>\n",
       "      <th>number_of_engines</th>\n",
       "      <th>engine_type</th>\n",
       "      <th>purpose_of_flight</th>\n",
       "      <th>total_fatal_injuries</th>\n",
       "      <th>total_serious_injuries</th>\n",
       "      <th>total_minor_injuries</th>\n",
       "      <th>total_uninjured</th>\n",
       "      <th>weather_condition</th>\n",
       "      <th>broad_phase_of_flight</th>\n",
       "      <th>year_event</th>\n",
       "      <th>day_event</th>\n",
       "      <th>month_event</th>\n",
       "    </tr>\n",
       "  </thead>\n",
       "  <tbody>\n",
       "    <tr>\n",
       "      <th>0</th>\n",
       "      <td>ID</td>\n",
       "      <td>Accident</td>\n",
       "      <td>1948-10-24</td>\n",
       "      <td>United States</td>\n",
       "      <td>Fatal</td>\n",
       "      <td>Destroyed</td>\n",
       "      <td>stinson</td>\n",
       "      <td>No</td>\n",
       "      <td>1.0</td>\n",
       "      <td>Reciprocating</td>\n",
       "      <td>Personal</td>\n",
       "      <td>2.0</td>\n",
       "      <td>0.0</td>\n",
       "      <td>0.0</td>\n",
       "      <td>0.0</td>\n",
       "      <td>VMC</td>\n",
       "      <td>Cruise</td>\n",
       "      <td>1948</td>\n",
       "      <td>Sunday</td>\n",
       "      <td>10</td>\n",
       "    </tr>\n",
       "    <tr>\n",
       "      <th>1</th>\n",
       "      <td>CA</td>\n",
       "      <td>Accident</td>\n",
       "      <td>1962-07-19</td>\n",
       "      <td>United States</td>\n",
       "      <td>Fatal</td>\n",
       "      <td>Destroyed</td>\n",
       "      <td>piper</td>\n",
       "      <td>No</td>\n",
       "      <td>1.0</td>\n",
       "      <td>Reciprocating</td>\n",
       "      <td>Personal</td>\n",
       "      <td>4.0</td>\n",
       "      <td>0.0</td>\n",
       "      <td>0.0</td>\n",
       "      <td>0.0</td>\n",
       "      <td>VMC</td>\n",
       "      <td>Landing</td>\n",
       "      <td>1962</td>\n",
       "      <td>Thursday</td>\n",
       "      <td>7</td>\n",
       "    </tr>\n",
       "    <tr>\n",
       "      <th>2</th>\n",
       "      <td>VA</td>\n",
       "      <td>Accident</td>\n",
       "      <td>1974-08-30</td>\n",
       "      <td>United States</td>\n",
       "      <td>Fatal</td>\n",
       "      <td>Destroyed</td>\n",
       "      <td>cessna</td>\n",
       "      <td>No</td>\n",
       "      <td>1.0</td>\n",
       "      <td>Reciprocating</td>\n",
       "      <td>Personal</td>\n",
       "      <td>3.0</td>\n",
       "      <td>0.0</td>\n",
       "      <td>0.0</td>\n",
       "      <td>1.0</td>\n",
       "      <td>IMC</td>\n",
       "      <td>Cruise</td>\n",
       "      <td>1974</td>\n",
       "      <td>Friday</td>\n",
       "      <td>8</td>\n",
       "    </tr>\n",
       "    <tr>\n",
       "      <th>3</th>\n",
       "      <td>CA</td>\n",
       "      <td>Accident</td>\n",
       "      <td>1977-06-19</td>\n",
       "      <td>United States</td>\n",
       "      <td>Fatal</td>\n",
       "      <td>Destroyed</td>\n",
       "      <td>rockwell</td>\n",
       "      <td>No</td>\n",
       "      <td>1.0</td>\n",
       "      <td>Reciprocating</td>\n",
       "      <td>Personal</td>\n",
       "      <td>2.0</td>\n",
       "      <td>0.0</td>\n",
       "      <td>0.0</td>\n",
       "      <td>0.0</td>\n",
       "      <td>IMC</td>\n",
       "      <td>Cruise</td>\n",
       "      <td>1977</td>\n",
       "      <td>Sunday</td>\n",
       "      <td>6</td>\n",
       "    </tr>\n",
       "    <tr>\n",
       "      <th>4</th>\n",
       "      <td>OH</td>\n",
       "      <td>Accident</td>\n",
       "      <td>1979-08-02</td>\n",
       "      <td>United States</td>\n",
       "      <td>Fatal</td>\n",
       "      <td>Destroyed</td>\n",
       "      <td>cessna</td>\n",
       "      <td>No</td>\n",
       "      <td>1.0</td>\n",
       "      <td>Reciprocating</td>\n",
       "      <td>Personal</td>\n",
       "      <td>1.0</td>\n",
       "      <td>2.0</td>\n",
       "      <td>0.0</td>\n",
       "      <td>0.0</td>\n",
       "      <td>VMC</td>\n",
       "      <td>Approach</td>\n",
       "      <td>1979</td>\n",
       "      <td>Thursday</td>\n",
       "      <td>8</td>\n",
       "    </tr>\n",
       "  </tbody>\n",
       "</table>\n",
       "</div>"
      ],
      "text/plain": [
       "  location_id investigation_type event_date        country injury_severity  \\\n",
       "0          ID           Accident 1948-10-24  United States           Fatal   \n",
       "1          CA           Accident 1962-07-19  United States           Fatal   \n",
       "2          VA           Accident 1974-08-30  United States           Fatal   \n",
       "3          CA           Accident 1977-06-19  United States           Fatal   \n",
       "4          OH           Accident 1979-08-02  United States           Fatal   \n",
       "\n",
       "  aircraft_damage      make amateur_built  number_of_engines    engine_type  \\\n",
       "0       Destroyed   stinson            No                1.0  Reciprocating   \n",
       "1       Destroyed     piper            No                1.0  Reciprocating   \n",
       "2       Destroyed    cessna            No                1.0  Reciprocating   \n",
       "3       Destroyed  rockwell            No                1.0  Reciprocating   \n",
       "4       Destroyed    cessna            No                1.0  Reciprocating   \n",
       "\n",
       "  purpose_of_flight  total_fatal_injuries  total_serious_injuries  \\\n",
       "0          Personal                   2.0                     0.0   \n",
       "1          Personal                   4.0                     0.0   \n",
       "2          Personal                   3.0                     0.0   \n",
       "3          Personal                   2.0                     0.0   \n",
       "4          Personal                   1.0                     2.0   \n",
       "\n",
       "   total_minor_injuries  total_uninjured weather_condition  \\\n",
       "0                   0.0              0.0               VMC   \n",
       "1                   0.0              0.0               VMC   \n",
       "2                   0.0              1.0               IMC   \n",
       "3                   0.0              0.0               IMC   \n",
       "4                   0.0              0.0               VMC   \n",
       "\n",
       "  broad_phase_of_flight  year_event day_event  month_event  \n",
       "0                Cruise        1948    Sunday           10  \n",
       "1               Landing        1962  Thursday            7  \n",
       "2                Cruise        1974    Friday            8  \n",
       "3                Cruise        1977    Sunday            6  \n",
       "4              Approach        1979  Thursday            8  "
      ]
     },
     "execution_count": 260,
     "metadata": {},
     "output_type": "execute_result"
    }
   ],
   "source": [
    "# filter country, and save it to a new DataFrame called Usa_aviation\n",
    "\n",
    "usa_aviation = aviation[aviation['country'] == 'United States']\n",
    "\n",
    "# A look at head of Usa_aviation new DataFrame !\n",
    "usa_aviation.head()"
   ]
  },
  {
   "cell_type": "code",
   "execution_count": 261,
   "metadata": {},
   "outputs": [
    {
     "data": {
      "text/plain": [
       "(82500, 20)"
      ]
     },
     "execution_count": 261,
     "metadata": {},
     "output_type": "execute_result"
    }
   ],
   "source": [
    "# The dimension of usa_aviation\n",
    "usa_aviation.shape"
   ]
  },
  {
   "cell_type": "code",
   "execution_count": 262,
   "metadata": {
    "collapsed": true
   },
   "outputs": [
    {
     "data": {
      "text/plain": [
       "array(['ID', 'CA', 'VA', 'OH', 'MA', 'MN', 'WA', 'NJ', 'FL', 'NM', 'AL',\n",
       "       'LA', 'TX', 'OK', 'AR', 'UT', 'AK', 'PA', 'MI', 'GA', 'NC', 'NY',\n",
       "       'MT', 'OR', 'NV', 'IN', nan, 'AZ', 'MO', 'WY', 'IL', 'SC', 'MD',\n",
       "       'HI', 'CO', 'WV', 'MS', 'DC', 'VT', 'KS', 'NH', 'IA', 'WI', 'KY',\n",
       "       'CT', 'TN', 'ME', 'SD', 'NE', 'RI', 'ND', 'DE', 'HONOLULU', 'OAHU',\n",
       "       'PR', \"MANU'A\", 'MAUI', 'GU', 'KAUAI', 'PO', 'MOLOKAI', 'GM', 'AO',\n",
       "       'UN', 'Oahu', 'Kauai', 'VI', 'NYC', 'Unknown', '', 'San Juan Is.',\n",
       "       'Maui', 'Unkown', 'OF', 'MG', 'CB'], dtype=object)"
      ]
     },
     "execution_count": 262,
     "metadata": {},
     "output_type": "execute_result"
    }
   ],
   "source": [
    "# retrieve the unique values of location_id\n",
    "usa_aviation['location_id'].unique()"
   ]
  },
  {
   "cell_type": "markdown",
   "metadata": {},
   "source": [
    "### Merging Dataframe\n",
    "\n",
    "Here, we are going to comine Dataframes together.  \n",
    "Thus, were are certainly going to use `merge()` and use parameter like :  \n",
    "how =  `inner` ,`left` ,`right`, or `outer` and left_on, right_on, to  join **usa_aviation** and **State_us** DataFrames.\n"
   ]
  },
  {
   "cell_type": "code",
   "execution_count": 115,
   "metadata": {
    "collapsed": true
   },
   "outputs": [
    {
     "data": {
      "text/html": [
       "<div>\n",
       "<style scoped>\n",
       "    .dataframe tbody tr th:only-of-type {\n",
       "        vertical-align: middle;\n",
       "    }\n",
       "\n",
       "    .dataframe tbody tr th {\n",
       "        vertical-align: top;\n",
       "    }\n",
       "\n",
       "    .dataframe thead th {\n",
       "        text-align: right;\n",
       "    }\n",
       "</style>\n",
       "<table border=\"1\" class=\"dataframe\">\n",
       "  <thead>\n",
       "    <tr style=\"text-align: right;\">\n",
       "      <th></th>\n",
       "      <th>US_State</th>\n",
       "      <th>Abbreviation</th>\n",
       "    </tr>\n",
       "  </thead>\n",
       "  <tbody>\n",
       "    <tr>\n",
       "      <th>0</th>\n",
       "      <td>Alabama</td>\n",
       "      <td>AL</td>\n",
       "    </tr>\n",
       "    <tr>\n",
       "      <th>1</th>\n",
       "      <td>Alaska</td>\n",
       "      <td>AK</td>\n",
       "    </tr>\n",
       "    <tr>\n",
       "      <th>2</th>\n",
       "      <td>Arizona</td>\n",
       "      <td>AZ</td>\n",
       "    </tr>\n",
       "    <tr>\n",
       "      <th>3</th>\n",
       "      <td>Arkansas</td>\n",
       "      <td>AR</td>\n",
       "    </tr>\n",
       "    <tr>\n",
       "      <th>4</th>\n",
       "      <td>California</td>\n",
       "      <td>CA</td>\n",
       "    </tr>\n",
       "  </tbody>\n",
       "</table>\n",
       "</div>"
      ],
      "text/plain": [
       "     US_State Abbreviation\n",
       "0     Alabama           AL\n",
       "1      Alaska           AK\n",
       "2     Arizona           AZ\n",
       "3    Arkansas           AR\n",
       "4  California           CA"
      ]
     },
     "execution_count": 115,
     "metadata": {},
     "output_type": "execute_result"
    }
   ],
   "source": [
    "# Before merging, let's take a look at the state_us DataFrame !\n",
    "state_us.head()"
   ]
  },
  {
   "cell_type": "code",
   "execution_count": 263,
   "metadata": {
    "collapsed": true
   },
   "outputs": [
    {
     "data": {
      "text/html": [
       "<div>\n",
       "<style scoped>\n",
       "    .dataframe tbody tr th:only-of-type {\n",
       "        vertical-align: middle;\n",
       "    }\n",
       "\n",
       "    .dataframe tbody tr th {\n",
       "        vertical-align: top;\n",
       "    }\n",
       "\n",
       "    .dataframe thead th {\n",
       "        text-align: right;\n",
       "    }\n",
       "</style>\n",
       "<table border=\"1\" class=\"dataframe\">\n",
       "  <thead>\n",
       "    <tr style=\"text-align: right;\">\n",
       "      <th></th>\n",
       "      <th>location_id</th>\n",
       "      <th>investigation_type</th>\n",
       "      <th>event_date</th>\n",
       "      <th>country</th>\n",
       "      <th>injury_severity</th>\n",
       "      <th>aircraft_damage</th>\n",
       "      <th>make</th>\n",
       "      <th>amateur_built</th>\n",
       "      <th>number_of_engines</th>\n",
       "      <th>engine_type</th>\n",
       "      <th>...</th>\n",
       "      <th>total_serious_injuries</th>\n",
       "      <th>total_minor_injuries</th>\n",
       "      <th>total_uninjured</th>\n",
       "      <th>weather_condition</th>\n",
       "      <th>broad_phase_of_flight</th>\n",
       "      <th>year_event</th>\n",
       "      <th>day_event</th>\n",
       "      <th>month_event</th>\n",
       "      <th>US_State</th>\n",
       "      <th>Abbreviation</th>\n",
       "    </tr>\n",
       "  </thead>\n",
       "  <tbody>\n",
       "    <tr>\n",
       "      <th>0</th>\n",
       "      <td>ID</td>\n",
       "      <td>Accident</td>\n",
       "      <td>1948-10-24</td>\n",
       "      <td>United States</td>\n",
       "      <td>Fatal</td>\n",
       "      <td>Destroyed</td>\n",
       "      <td>stinson</td>\n",
       "      <td>No</td>\n",
       "      <td>1.0</td>\n",
       "      <td>Reciprocating</td>\n",
       "      <td>...</td>\n",
       "      <td>0.0</td>\n",
       "      <td>0.0</td>\n",
       "      <td>0.0</td>\n",
       "      <td>VMC</td>\n",
       "      <td>Cruise</td>\n",
       "      <td>1948</td>\n",
       "      <td>Sunday</td>\n",
       "      <td>10</td>\n",
       "      <td>Idaho</td>\n",
       "      <td>ID</td>\n",
       "    </tr>\n",
       "    <tr>\n",
       "      <th>1</th>\n",
       "      <td>ID</td>\n",
       "      <td>Accident</td>\n",
       "      <td>1982-01-15</td>\n",
       "      <td>United States</td>\n",
       "      <td>Non-Fatal</td>\n",
       "      <td>Substantial</td>\n",
       "      <td>hughes</td>\n",
       "      <td>No</td>\n",
       "      <td>1.0</td>\n",
       "      <td>Reciprocating</td>\n",
       "      <td>...</td>\n",
       "      <td>0.0</td>\n",
       "      <td>0.0</td>\n",
       "      <td>1.0</td>\n",
       "      <td>VMC</td>\n",
       "      <td>Taxi</td>\n",
       "      <td>1982</td>\n",
       "      <td>Friday</td>\n",
       "      <td>1</td>\n",
       "      <td>Idaho</td>\n",
       "      <td>ID</td>\n",
       "    </tr>\n",
       "    <tr>\n",
       "      <th>2</th>\n",
       "      <td>ID</td>\n",
       "      <td>Accident</td>\n",
       "      <td>1982-01-21</td>\n",
       "      <td>United States</td>\n",
       "      <td>Fatal</td>\n",
       "      <td>Destroyed</td>\n",
       "      <td>cessna</td>\n",
       "      <td>No</td>\n",
       "      <td>1.0</td>\n",
       "      <td>Reciprocating</td>\n",
       "      <td>...</td>\n",
       "      <td>0.0</td>\n",
       "      <td>0.0</td>\n",
       "      <td>0.0</td>\n",
       "      <td>IMC</td>\n",
       "      <td>Cruise</td>\n",
       "      <td>1982</td>\n",
       "      <td>Thursday</td>\n",
       "      <td>1</td>\n",
       "      <td>Idaho</td>\n",
       "      <td>ID</td>\n",
       "    </tr>\n",
       "    <tr>\n",
       "      <th>3</th>\n",
       "      <td>ID</td>\n",
       "      <td>Accident</td>\n",
       "      <td>1982-01-22</td>\n",
       "      <td>United States</td>\n",
       "      <td>Non-Fatal</td>\n",
       "      <td>Substantial</td>\n",
       "      <td>sikorsky</td>\n",
       "      <td>No</td>\n",
       "      <td>1.0</td>\n",
       "      <td>Reciprocating</td>\n",
       "      <td>...</td>\n",
       "      <td>0.0</td>\n",
       "      <td>0.0</td>\n",
       "      <td>2.0</td>\n",
       "      <td>VMC</td>\n",
       "      <td>Maneuvering</td>\n",
       "      <td>1982</td>\n",
       "      <td>Friday</td>\n",
       "      <td>1</td>\n",
       "      <td>Idaho</td>\n",
       "      <td>ID</td>\n",
       "    </tr>\n",
       "    <tr>\n",
       "      <th>4</th>\n",
       "      <td>ID</td>\n",
       "      <td>Incident</td>\n",
       "      <td>1982-02-18</td>\n",
       "      <td>United States</td>\n",
       "      <td>Incident</td>\n",
       "      <td>Minor</td>\n",
       "      <td>embraer</td>\n",
       "      <td>No</td>\n",
       "      <td>2.0</td>\n",
       "      <td>Turbo Prop</td>\n",
       "      <td>...</td>\n",
       "      <td>0.0</td>\n",
       "      <td>0.0</td>\n",
       "      <td>16.0</td>\n",
       "      <td>VMC</td>\n",
       "      <td>Takeoff</td>\n",
       "      <td>1982</td>\n",
       "      <td>Thursday</td>\n",
       "      <td>2</td>\n",
       "      <td>Idaho</td>\n",
       "      <td>ID</td>\n",
       "    </tr>\n",
       "  </tbody>\n",
       "</table>\n",
       "<p>5 rows × 22 columns</p>\n",
       "</div>"
      ],
      "text/plain": [
       "  location_id investigation_type event_date        country injury_severity  \\\n",
       "0          ID           Accident 1948-10-24  United States           Fatal   \n",
       "1          ID           Accident 1982-01-15  United States       Non-Fatal   \n",
       "2          ID           Accident 1982-01-21  United States           Fatal   \n",
       "3          ID           Accident 1982-01-22  United States       Non-Fatal   \n",
       "4          ID           Incident 1982-02-18  United States        Incident   \n",
       "\n",
       "  aircraft_damage      make amateur_built  number_of_engines    engine_type  \\\n",
       "0       Destroyed   stinson            No                1.0  Reciprocating   \n",
       "1     Substantial    hughes            No                1.0  Reciprocating   \n",
       "2       Destroyed    cessna            No                1.0  Reciprocating   \n",
       "3     Substantial  sikorsky            No                1.0  Reciprocating   \n",
       "4           Minor   embraer            No                2.0     Turbo Prop   \n",
       "\n",
       "   ... total_serious_injuries  total_minor_injuries  total_uninjured  \\\n",
       "0  ...                    0.0                   0.0              0.0   \n",
       "1  ...                    0.0                   0.0              1.0   \n",
       "2  ...                    0.0                   0.0              0.0   \n",
       "3  ...                    0.0                   0.0              2.0   \n",
       "4  ...                    0.0                   0.0             16.0   \n",
       "\n",
       "   weather_condition  broad_phase_of_flight year_event day_event  month_event  \\\n",
       "0                VMC                 Cruise       1948    Sunday           10   \n",
       "1                VMC                   Taxi       1982    Friday            1   \n",
       "2                IMC                 Cruise       1982  Thursday            1   \n",
       "3                VMC            Maneuvering       1982    Friday            1   \n",
       "4                VMC                Takeoff       1982  Thursday            2   \n",
       "\n",
       "  US_State  Abbreviation  \n",
       "0    Idaho            ID  \n",
       "1    Idaho            ID  \n",
       "2    Idaho            ID  \n",
       "3    Idaho            ID  \n",
       "4    Idaho            ID  \n",
       "\n",
       "[5 rows x 22 columns]"
      ]
     },
     "execution_count": 263,
     "metadata": {},
     "output_type": "execute_result"
    }
   ],
   "source": [
    "# Here, join the two DataFrame that i mentioned above.\n",
    "\n",
    "# use merge to ()to merge the DataFrames, and I pass how = 'inner' \n",
    "# to retrive all the records that matches both of DataFrames primarey key\n",
    "\n",
    "usa_merged = pd.merge(usa_aviation, state_us, how = 'inner', left_on = 'location_id', right_on= 'Abbreviation')\n",
    "\n",
    "usa_merged.head() # Display the first 5 observations of the usa_merged DataFrame"
   ]
  },
  {
   "cell_type": "code",
   "execution_count": 264,
   "metadata": {},
   "outputs": [
    {
     "data": {
      "text/plain": [
       "(82159, 22)"
      ]
     },
     "execution_count": 264,
     "metadata": {},
     "output_type": "execute_result"
    }
   ],
   "source": [
    "# it's important to determine the current shape of usa_merged\n",
    "\n",
    "usa_merged.shape"
   ]
  },
  {
   "cell_type": "code",
   "execution_count": 265,
   "metadata": {
    "collapsed": true
   },
   "outputs": [
    {
     "data": {
      "text/plain": [
       "Index(['location_id', 'investigation_type', 'event_date', 'country',\n",
       "       'injury_severity', 'aircraft_damage', 'make', 'amateur_built',\n",
       "       'number_of_engines', 'engine_type', 'purpose_of_flight',\n",
       "       'total_fatal_injuries', 'total_serious_injuries',\n",
       "       'total_minor_injuries', 'total_uninjured', 'weather_condition',\n",
       "       'broad_phase_of_flight', 'year_event', 'day_event', 'month_event',\n",
       "       'US_State', 'Abbreviation'],\n",
       "      dtype='object')"
      ]
     },
     "execution_count": 265,
     "metadata": {},
     "output_type": "execute_result"
    }
   ],
   "source": [
    "# look at the columns name of the usa_merged DataFrame\n",
    "usa_merged.columns"
   ]
  },
  {
   "cell_type": "code",
   "execution_count": 266,
   "metadata": {
    "collapsed": true
   },
   "outputs": [
    {
     "data": {
      "text/plain": [
       "location_id               0\n",
       "investigation_type        0\n",
       "event_date                0\n",
       "country                   0\n",
       "injury_severity           0\n",
       "aircraft_damage           0\n",
       "make                      0\n",
       "amateur_built             0\n",
       "number_of_engines         0\n",
       "engine_type               0\n",
       "purpose_of_flight         0\n",
       "total_fatal_injuries      0\n",
       "total_serious_injuries    0\n",
       "total_minor_injuries      0\n",
       "total_uninjured           0\n",
       "weather_condition         0\n",
       "broad_phase_of_flight     0\n",
       "year_event                0\n",
       "day_event                 0\n",
       "month_event               0\n",
       "US_State                  0\n",
       "Abbreviation              0\n",
       "dtype: int64"
      ]
     },
     "execution_count": 266,
     "metadata": {},
     "output_type": "execute_result"
    }
   ],
   "source": [
    "# determine the amount of missing values of this DataFrame\n",
    "usa_merged.isna().sum()"
   ]
  },
  {
   "cell_type": "markdown",
   "metadata": {},
   "source": [
    "#### After exploring the usa_merged DataFrame, it's obvious that :  \n",
    "It needs a brief cleaning. Then, let's dive into it !"
   ]
  },
  {
   "cell_type": "code",
   "execution_count": 267,
   "metadata": {
    "collapsed": true
   },
   "outputs": [
    {
     "data": {
      "text/html": [
       "<div>\n",
       "<style scoped>\n",
       "    .dataframe tbody tr th:only-of-type {\n",
       "        vertical-align: middle;\n",
       "    }\n",
       "\n",
       "    .dataframe tbody tr th {\n",
       "        vertical-align: top;\n",
       "    }\n",
       "\n",
       "    .dataframe thead th {\n",
       "        text-align: right;\n",
       "    }\n",
       "</style>\n",
       "<table border=\"1\" class=\"dataframe\">\n",
       "  <thead>\n",
       "    <tr style=\"text-align: right;\">\n",
       "      <th></th>\n",
       "      <th>location_id</th>\n",
       "      <th>investigation_type</th>\n",
       "      <th>event_date</th>\n",
       "      <th>country</th>\n",
       "      <th>us_state</th>\n",
       "      <th>injury_severity</th>\n",
       "      <th>aircraft_damage</th>\n",
       "      <th>make</th>\n",
       "      <th>amateur_built</th>\n",
       "      <th>number_of_engines</th>\n",
       "      <th>...</th>\n",
       "      <th>purpose_of_flight</th>\n",
       "      <th>total_fatal_injuries</th>\n",
       "      <th>total_serious_injuries</th>\n",
       "      <th>total_minor_injuries</th>\n",
       "      <th>total_uninjured</th>\n",
       "      <th>weather_condition</th>\n",
       "      <th>broad_phase_of_flight</th>\n",
       "      <th>year_event</th>\n",
       "      <th>day_event</th>\n",
       "      <th>month_event</th>\n",
       "    </tr>\n",
       "  </thead>\n",
       "  <tbody>\n",
       "    <tr>\n",
       "      <th>0</th>\n",
       "      <td>ID</td>\n",
       "      <td>Accident</td>\n",
       "      <td>1948-10-24</td>\n",
       "      <td>United States</td>\n",
       "      <td>Idaho</td>\n",
       "      <td>Fatal</td>\n",
       "      <td>Destroyed</td>\n",
       "      <td>stinson</td>\n",
       "      <td>No</td>\n",
       "      <td>1.0</td>\n",
       "      <td>...</td>\n",
       "      <td>Personal</td>\n",
       "      <td>2.0</td>\n",
       "      <td>0.0</td>\n",
       "      <td>0.0</td>\n",
       "      <td>0.0</td>\n",
       "      <td>VMC</td>\n",
       "      <td>Cruise</td>\n",
       "      <td>1948</td>\n",
       "      <td>Sunday</td>\n",
       "      <td>10</td>\n",
       "    </tr>\n",
       "    <tr>\n",
       "      <th>1</th>\n",
       "      <td>ID</td>\n",
       "      <td>Accident</td>\n",
       "      <td>1982-01-15</td>\n",
       "      <td>United States</td>\n",
       "      <td>Idaho</td>\n",
       "      <td>Non-Fatal</td>\n",
       "      <td>Substantial</td>\n",
       "      <td>hughes</td>\n",
       "      <td>No</td>\n",
       "      <td>1.0</td>\n",
       "      <td>...</td>\n",
       "      <td>Personal</td>\n",
       "      <td>0.0</td>\n",
       "      <td>0.0</td>\n",
       "      <td>0.0</td>\n",
       "      <td>1.0</td>\n",
       "      <td>VMC</td>\n",
       "      <td>Taxi</td>\n",
       "      <td>1982</td>\n",
       "      <td>Friday</td>\n",
       "      <td>1</td>\n",
       "    </tr>\n",
       "    <tr>\n",
       "      <th>2</th>\n",
       "      <td>ID</td>\n",
       "      <td>Accident</td>\n",
       "      <td>1982-01-21</td>\n",
       "      <td>United States</td>\n",
       "      <td>Idaho</td>\n",
       "      <td>Fatal</td>\n",
       "      <td>Destroyed</td>\n",
       "      <td>cessna</td>\n",
       "      <td>No</td>\n",
       "      <td>1.0</td>\n",
       "      <td>...</td>\n",
       "      <td>Personal</td>\n",
       "      <td>4.0</td>\n",
       "      <td>0.0</td>\n",
       "      <td>0.0</td>\n",
       "      <td>0.0</td>\n",
       "      <td>IMC</td>\n",
       "      <td>Cruise</td>\n",
       "      <td>1982</td>\n",
       "      <td>Thursday</td>\n",
       "      <td>1</td>\n",
       "    </tr>\n",
       "    <tr>\n",
       "      <th>3</th>\n",
       "      <td>ID</td>\n",
       "      <td>Accident</td>\n",
       "      <td>1982-01-22</td>\n",
       "      <td>United States</td>\n",
       "      <td>Idaho</td>\n",
       "      <td>Non-Fatal</td>\n",
       "      <td>Substantial</td>\n",
       "      <td>sikorsky</td>\n",
       "      <td>No</td>\n",
       "      <td>1.0</td>\n",
       "      <td>...</td>\n",
       "      <td>Personal</td>\n",
       "      <td>0.0</td>\n",
       "      <td>0.0</td>\n",
       "      <td>0.0</td>\n",
       "      <td>2.0</td>\n",
       "      <td>VMC</td>\n",
       "      <td>Maneuvering</td>\n",
       "      <td>1982</td>\n",
       "      <td>Friday</td>\n",
       "      <td>1</td>\n",
       "    </tr>\n",
       "    <tr>\n",
       "      <th>4</th>\n",
       "      <td>ID</td>\n",
       "      <td>Incident</td>\n",
       "      <td>1982-02-18</td>\n",
       "      <td>United States</td>\n",
       "      <td>Idaho</td>\n",
       "      <td>Incident</td>\n",
       "      <td>Minor</td>\n",
       "      <td>embraer</td>\n",
       "      <td>No</td>\n",
       "      <td>2.0</td>\n",
       "      <td>...</td>\n",
       "      <td>Personal</td>\n",
       "      <td>0.0</td>\n",
       "      <td>0.0</td>\n",
       "      <td>0.0</td>\n",
       "      <td>16.0</td>\n",
       "      <td>VMC</td>\n",
       "      <td>Takeoff</td>\n",
       "      <td>1982</td>\n",
       "      <td>Thursday</td>\n",
       "      <td>2</td>\n",
       "    </tr>\n",
       "  </tbody>\n",
       "</table>\n",
       "<p>5 rows × 21 columns</p>\n",
       "</div>"
      ],
      "text/plain": [
       "  location_id investigation_type event_date        country us_state  \\\n",
       "0          ID           Accident 1948-10-24  United States    Idaho   \n",
       "1          ID           Accident 1982-01-15  United States    Idaho   \n",
       "2          ID           Accident 1982-01-21  United States    Idaho   \n",
       "3          ID           Accident 1982-01-22  United States    Idaho   \n",
       "4          ID           Incident 1982-02-18  United States    Idaho   \n",
       "\n",
       "  injury_severity aircraft_damage      make amateur_built  number_of_engines  \\\n",
       "0           Fatal       Destroyed   stinson            No                1.0   \n",
       "1       Non-Fatal     Substantial    hughes            No                1.0   \n",
       "2           Fatal       Destroyed    cessna            No                1.0   \n",
       "3       Non-Fatal     Substantial  sikorsky            No                1.0   \n",
       "4        Incident           Minor   embraer            No                2.0   \n",
       "\n",
       "   ... purpose_of_flight total_fatal_injuries  total_serious_injuries  \\\n",
       "0  ...          Personal                  2.0                     0.0   \n",
       "1  ...          Personal                  0.0                     0.0   \n",
       "2  ...          Personal                  4.0                     0.0   \n",
       "3  ...          Personal                  0.0                     0.0   \n",
       "4  ...          Personal                  0.0                     0.0   \n",
       "\n",
       "   total_minor_injuries  total_uninjured  weather_condition  \\\n",
       "0                   0.0              0.0                VMC   \n",
       "1                   0.0              1.0                VMC   \n",
       "2                   0.0              0.0                IMC   \n",
       "3                   0.0              2.0                VMC   \n",
       "4                   0.0             16.0                VMC   \n",
       "\n",
       "  broad_phase_of_flight year_event  day_event month_event  \n",
       "0                Cruise       1948     Sunday          10  \n",
       "1                  Taxi       1982     Friday           1  \n",
       "2                Cruise       1982   Thursday           1  \n",
       "3           Maneuvering       1982     Friday           1  \n",
       "4               Takeoff       1982   Thursday           2  \n",
       "\n",
       "[5 rows x 21 columns]"
      ]
     },
     "execution_count": 267,
     "metadata": {},
     "output_type": "execute_result"
    }
   ],
   "source": [
    "# drop the Abbravation variable, wich in fact, stores same records as location_id\n",
    "usa_merged.drop('Abbreviation', axis = 1, inplace = True)\n",
    "\n",
    "# I properly use pythonic convention name to my columns, because variable US_State, was not lower. \n",
    "usa_merged.columns = usa_merged.columns.str.strip().str.lower()\n",
    "\n",
    "# I move the us_state next to the variable country in order to be more coherent.\n",
    "usa_merged.insert(4, 'us_state', usa_merged.pop('us_state'))\n",
    "\n",
    "# show the first 5 records of the DataFrame to see the results.\n",
    "usa_merged.head()"
   ]
  },
  {
   "cell_type": "code",
   "execution_count": 383,
   "metadata": {},
   "outputs": [
    {
     "data": {
      "text/plain": [
       "(82159, 22)"
      ]
     },
     "execution_count": 383,
     "metadata": {},
     "output_type": "execute_result"
    }
   ],
   "source": [
    "# let's the new shape of the DataFrame\n",
    "usa_merged.shape"
   ]
  },
  {
   "cell_type": "code",
   "execution_count": 268,
   "metadata": {
    "collapsed": true
   },
   "outputs": [
    {
     "data": {
      "text/plain": [
       "California        8857\n",
       "Texas             5913\n",
       "Florida           5825\n",
       "Alaska            5704\n",
       "Arizona           2834\n",
       "Colorado          2726\n",
       "Washington        2611\n",
       "Illinois          2060\n",
       "Michigan          2030\n",
       "Georgia           2023\n",
       "New York          1914\n",
       "Ohio              1823\n",
       "Pennsylvania      1790\n",
       "Oregon            1772\n",
       "North Carolina    1660\n",
       "Missouri          1565\n",
       "Wisconsin         1560\n",
       "Arkansas          1519\n",
       "Minnesota         1456\n",
       "Idaho             1436\n",
       "New Mexico        1358\n",
       "Utah              1336\n",
       "Indiana           1320\n",
       "Virginia          1275\n",
       "Oklahoma          1240\n",
       "Nevada            1236\n",
       "Louisiana         1217\n",
       "New Jersey        1170\n",
       "Alabama           1153\n",
       "Tennessee         1108\n",
       "Kansas            1104\n",
       "Montana           1050\n",
       "South Carolina     974\n",
       "Massachusetts      969\n",
       "Iowa               819\n",
       "Maryland           815\n",
       "Mississippi        813\n",
       "Wyoming            739\n",
       "Nebraska           725\n",
       "Kentucky           650\n",
       "North Dakota       561\n",
       "Maine              505\n",
       "Connecticut        502\n",
       "Hawaii             476\n",
       "South Dakota       446\n",
       "West Virginia      394\n",
       "New Hampshire      368\n",
       "Vermont            241\n",
       "Rhode Island       158\n",
       "Puerto Rico        114\n",
       "Delaware           114\n",
       "Gulf of mexico      44\n",
       "Washington_DC       42\n",
       "Atlantic ocean      17\n",
       "Pacific ocean       14\n",
       "Guam                 8\n",
       "Virgin Islands       6\n",
       "Name: us_state, dtype: int64"
      ]
     },
     "execution_count": 268,
     "metadata": {},
     "output_type": "execute_result"
    }
   ],
   "source": [
    "usa_merged['us_state'].value_counts()"
   ]
  },
  {
   "cell_type": "markdown",
   "metadata": {},
   "source": [
    "## Analysis and Results\n",
    "\n",
    "---\n",
    "**Here we go !**  \n",
    "After carefully preparing the Dataset, the moment have come to analyse the our Data.  \n",
    "Since the category *United States* from the **country variable** represents almost the total observations of the datset,  \n",
    "namely with more *92%*  of the total records of the dataset, we are going to use only the the *usa_merged* dataset for this analysis.  \n",
    "In fact, the data is abount the United States"
   ]
  },
  {
   "cell_type": "code",
   "execution_count": null,
   "metadata": {},
   "outputs": [],
   "source": []
  },
  {
   "cell_type": "code",
   "execution_count": 240,
   "metadata": {
    "scrolled": true
   },
   "outputs": [
    {
     "data": {
      "text/html": [
       "<div>\n",
       "<style scoped>\n",
       "    .dataframe tbody tr th:only-of-type {\n",
       "        vertical-align: middle;\n",
       "    }\n",
       "\n",
       "    .dataframe tbody tr th {\n",
       "        vertical-align: top;\n",
       "    }\n",
       "\n",
       "    .dataframe thead th {\n",
       "        text-align: right;\n",
       "    }\n",
       "</style>\n",
       "<table border=\"1\" class=\"dataframe\">\n",
       "  <thead>\n",
       "    <tr style=\"text-align: right;\">\n",
       "      <th></th>\n",
       "      <th>number_of_engines</th>\n",
       "      <th>total_fatal_injuries</th>\n",
       "      <th>total_serious_injuries</th>\n",
       "      <th>total_minor_injuries</th>\n",
       "      <th>total_uninjured</th>\n",
       "      <th>year_event</th>\n",
       "      <th>month_event</th>\n",
       "    </tr>\n",
       "  </thead>\n",
       "  <tbody>\n",
       "    <tr>\n",
       "      <th>count</th>\n",
       "      <td>82159.000000</td>\n",
       "      <td>82159.000000</td>\n",
       "      <td>82159.000000</td>\n",
       "      <td>82159.000000</td>\n",
       "      <td>82159.000000</td>\n",
       "      <td>82159.000000</td>\n",
       "      <td>82159.000000</td>\n",
       "    </tr>\n",
       "    <tr>\n",
       "      <th>mean</th>\n",
       "      <td>1.132231</td>\n",
       "      <td>0.366789</td>\n",
       "      <td>0.221449</td>\n",
       "      <td>0.289414</td>\n",
       "      <td>4.084896</td>\n",
       "      <td>1998.390718</td>\n",
       "      <td>6.591548</td>\n",
       "    </tr>\n",
       "    <tr>\n",
       "      <th>std</th>\n",
       "      <td>0.422640</td>\n",
       "      <td>2.274654</td>\n",
       "      <td>1.066047</td>\n",
       "      <td>1.223867</td>\n",
       "      <td>23.011152</td>\n",
       "      <td>11.663429</td>\n",
       "      <td>3.037324</td>\n",
       "    </tr>\n",
       "    <tr>\n",
       "      <th>min</th>\n",
       "      <td>0.000000</td>\n",
       "      <td>0.000000</td>\n",
       "      <td>0.000000</td>\n",
       "      <td>0.000000</td>\n",
       "      <td>0.000000</td>\n",
       "      <td>1948.000000</td>\n",
       "      <td>1.000000</td>\n",
       "    </tr>\n",
       "    <tr>\n",
       "      <th>25%</th>\n",
       "      <td>1.000000</td>\n",
       "      <td>0.000000</td>\n",
       "      <td>0.000000</td>\n",
       "      <td>0.000000</td>\n",
       "      <td>0.000000</td>\n",
       "      <td>1988.000000</td>\n",
       "      <td>4.000000</td>\n",
       "    </tr>\n",
       "    <tr>\n",
       "      <th>50%</th>\n",
       "      <td>1.000000</td>\n",
       "      <td>0.000000</td>\n",
       "      <td>0.000000</td>\n",
       "      <td>0.000000</td>\n",
       "      <td>1.000000</td>\n",
       "      <td>1997.000000</td>\n",
       "      <td>7.000000</td>\n",
       "    </tr>\n",
       "    <tr>\n",
       "      <th>75%</th>\n",
       "      <td>1.000000</td>\n",
       "      <td>0.000000</td>\n",
       "      <td>0.000000</td>\n",
       "      <td>0.000000</td>\n",
       "      <td>2.000000</td>\n",
       "      <td>2008.000000</td>\n",
       "      <td>9.000000</td>\n",
       "    </tr>\n",
       "    <tr>\n",
       "      <th>max</th>\n",
       "      <td>8.000000</td>\n",
       "      <td>265.000000</td>\n",
       "      <td>137.000000</td>\n",
       "      <td>125.000000</td>\n",
       "      <td>699.000000</td>\n",
       "      <td>2022.000000</td>\n",
       "      <td>12.000000</td>\n",
       "    </tr>\n",
       "  </tbody>\n",
       "</table>\n",
       "</div>"
      ],
      "text/plain": [
       "       number_of_engines  total_fatal_injuries  total_serious_injuries  \\\n",
       "count       82159.000000          82159.000000            82159.000000   \n",
       "mean            1.132231              0.366789                0.221449   \n",
       "std             0.422640              2.274654                1.066047   \n",
       "min             0.000000              0.000000                0.000000   \n",
       "25%             1.000000              0.000000                0.000000   \n",
       "50%             1.000000              0.000000                0.000000   \n",
       "75%             1.000000              0.000000                0.000000   \n",
       "max             8.000000            265.000000              137.000000   \n",
       "\n",
       "       total_minor_injuries  total_uninjured    year_event   month_event  \n",
       "count          82159.000000     82159.000000  82159.000000  82159.000000  \n",
       "mean               0.289414         4.084896   1998.390718      6.591548  \n",
       "std                1.223867        23.011152     11.663429      3.037324  \n",
       "min                0.000000         0.000000   1948.000000      1.000000  \n",
       "25%                0.000000         0.000000   1988.000000      4.000000  \n",
       "50%                0.000000         1.000000   1997.000000      7.000000  \n",
       "75%                0.000000         2.000000   2008.000000      9.000000  \n",
       "max              125.000000       699.000000   2022.000000     12.000000  "
      ]
     },
     "execution_count": 240,
     "metadata": {},
     "output_type": "execute_result"
    }
   ],
   "source": [
    "# I'm using describe() to get some brief descriptive statistic of each of numerical variables of usa_merged\n",
    "usa_merged.describe()"
   ]
  },
  {
   "cell_type": "markdown",
   "metadata": {},
   "source": [
    "## 1. Descriptive Statistical Overview\n",
    "\n",
    "In this section,  we will identifying the most common aircraft makes \n",
    "\n",
    "- the distribution of injury severity\n",
    "\n",
    "- other important categorical and numerical attributes.\n",
    "\n",
    "The goal is to uncover basic yet meaningful patterns that will guide our deeper analysis in the next sections."
   ]
  },
  {
   "cell_type": "code",
   "execution_count": 269,
   "metadata": {
    "collapsed": true
   },
   "outputs": [
    {
     "data": {
      "text/html": [
       "<div>\n",
       "<style scoped>\n",
       "    .dataframe tbody tr th:only-of-type {\n",
       "        vertical-align: middle;\n",
       "    }\n",
       "\n",
       "    .dataframe tbody tr th {\n",
       "        vertical-align: top;\n",
       "    }\n",
       "\n",
       "    .dataframe thead th {\n",
       "        text-align: right;\n",
       "    }\n",
       "</style>\n",
       "<table border=\"1\" class=\"dataframe\">\n",
       "  <thead>\n",
       "    <tr style=\"text-align: right;\">\n",
       "      <th></th>\n",
       "      <th>number_of_engines</th>\n",
       "      <th>total_fatal_injuries</th>\n",
       "      <th>total_serious_injuries</th>\n",
       "      <th>total_minor_injuries</th>\n",
       "      <th>total_uninjured</th>\n",
       "      <th>year_event</th>\n",
       "      <th>month_event</th>\n",
       "    </tr>\n",
       "  </thead>\n",
       "  <tbody>\n",
       "    <tr>\n",
       "      <th>count</th>\n",
       "      <td>82159.000000</td>\n",
       "      <td>82159.000000</td>\n",
       "      <td>82159.000000</td>\n",
       "      <td>82159.000000</td>\n",
       "      <td>82159.000000</td>\n",
       "      <td>82159.000000</td>\n",
       "      <td>82159.000000</td>\n",
       "    </tr>\n",
       "    <tr>\n",
       "      <th>mean</th>\n",
       "      <td>1.132231</td>\n",
       "      <td>0.366789</td>\n",
       "      <td>0.221449</td>\n",
       "      <td>0.289414</td>\n",
       "      <td>4.084896</td>\n",
       "      <td>1998.390718</td>\n",
       "      <td>6.591548</td>\n",
       "    </tr>\n",
       "    <tr>\n",
       "      <th>std</th>\n",
       "      <td>0.422640</td>\n",
       "      <td>2.274654</td>\n",
       "      <td>1.066047</td>\n",
       "      <td>1.223867</td>\n",
       "      <td>23.011152</td>\n",
       "      <td>11.663429</td>\n",
       "      <td>3.037324</td>\n",
       "    </tr>\n",
       "    <tr>\n",
       "      <th>min</th>\n",
       "      <td>0.000000</td>\n",
       "      <td>0.000000</td>\n",
       "      <td>0.000000</td>\n",
       "      <td>0.000000</td>\n",
       "      <td>0.000000</td>\n",
       "      <td>1948.000000</td>\n",
       "      <td>1.000000</td>\n",
       "    </tr>\n",
       "    <tr>\n",
       "      <th>25%</th>\n",
       "      <td>1.000000</td>\n",
       "      <td>0.000000</td>\n",
       "      <td>0.000000</td>\n",
       "      <td>0.000000</td>\n",
       "      <td>0.000000</td>\n",
       "      <td>1988.000000</td>\n",
       "      <td>4.000000</td>\n",
       "    </tr>\n",
       "    <tr>\n",
       "      <th>50%</th>\n",
       "      <td>1.000000</td>\n",
       "      <td>0.000000</td>\n",
       "      <td>0.000000</td>\n",
       "      <td>0.000000</td>\n",
       "      <td>1.000000</td>\n",
       "      <td>1997.000000</td>\n",
       "      <td>7.000000</td>\n",
       "    </tr>\n",
       "    <tr>\n",
       "      <th>75%</th>\n",
       "      <td>1.000000</td>\n",
       "      <td>0.000000</td>\n",
       "      <td>0.000000</td>\n",
       "      <td>0.000000</td>\n",
       "      <td>2.000000</td>\n",
       "      <td>2008.000000</td>\n",
       "      <td>9.000000</td>\n",
       "    </tr>\n",
       "    <tr>\n",
       "      <th>max</th>\n",
       "      <td>8.000000</td>\n",
       "      <td>265.000000</td>\n",
       "      <td>137.000000</td>\n",
       "      <td>125.000000</td>\n",
       "      <td>699.000000</td>\n",
       "      <td>2022.000000</td>\n",
       "      <td>12.000000</td>\n",
       "    </tr>\n",
       "  </tbody>\n",
       "</table>\n",
       "</div>"
      ],
      "text/plain": [
       "       number_of_engines  total_fatal_injuries  total_serious_injuries  \\\n",
       "count       82159.000000          82159.000000            82159.000000   \n",
       "mean            1.132231              0.366789                0.221449   \n",
       "std             0.422640              2.274654                1.066047   \n",
       "min             0.000000              0.000000                0.000000   \n",
       "25%             1.000000              0.000000                0.000000   \n",
       "50%             1.000000              0.000000                0.000000   \n",
       "75%             1.000000              0.000000                0.000000   \n",
       "max             8.000000            265.000000              137.000000   \n",
       "\n",
       "       total_minor_injuries  total_uninjured    year_event   month_event  \n",
       "count          82159.000000     82159.000000  82159.000000  82159.000000  \n",
       "mean               0.289414         4.084896   1998.390718      6.591548  \n",
       "std                1.223867        23.011152     11.663429      3.037324  \n",
       "min                0.000000         0.000000   1948.000000      1.000000  \n",
       "25%                0.000000         0.000000   1988.000000      4.000000  \n",
       "50%                0.000000         1.000000   1997.000000      7.000000  \n",
       "75%                0.000000         2.000000   2008.000000      9.000000  \n",
       "max              125.000000       699.000000   2022.000000     12.000000  "
      ]
     },
     "execution_count": 269,
     "metadata": {},
     "output_type": "execute_result"
    }
   ],
   "source": [
    "# I'm using describe() to get some brief descriptive statistic of each of numerical variables of usa_merged\n",
    "usa_merged.describe()"
   ]
  },
  {
   "cell_type": "markdown",
   "metadata": {},
   "source": [
    "### Historical Trend Analysis\n",
    "\n",
    "This section explores how aviation accidents have evolved over time.  \n",
    "By examining the number and severity of accidents per year,  \n",
    "- we can identify **safety trends, improvements, or recurring risk periods**. This helps assess whether certain time periods or conditions represent higher risks for aviation operations."
   ]
  },
  {
   "cell_type": "code",
   "execution_count": 272,
   "metadata": {},
   "outputs": [
    {
     "data": {
      "image/png": "[encoded data removed]",
      "text/plain": [
       "<Figure size 1008x432 with 1 Axes>"
      ]
     },
     "metadata": {},
     "output_type": "display_data"
    }
   ],
   "source": [
    "accidents_per_year = usa_merged['year_event'].value_counts().sort_index()\n",
    "\n",
    "# 4. I'going to create a chart to analyze the accidents over years\n",
    "plt.figure(figsize=(14, 6))\n",
    "sns.set_style(\"whitegrid\")\n",
    "\n",
    "sns.lineplot(\n",
    "    x=accidents_per_year.index,\n",
    "    y=accidents_per_year.values,\n",
    "    marker='o',\n",
    "    linewidth=2,\n",
    "    color='steelblue'\n",
    ")\n",
    "\n",
    "plt.title(\"Annual Aircraft Accidents in the United States\", fontsize=16, weight='bold')\n",
    "plt.xlabel(\"Year\", fontsize=15, weight='bold')\n",
    "plt.ylabel(\"Nomber of accidents\", fontsize=15 ,weight='bold' )\n",
    "plt.grid(True)\n",
    "plt.tight_layout()\n",
    "plt.show()"
   ]
  },
  {
   "cell_type": "markdown",
   "metadata": {},
   "source": [
    "#### As we can see above,  \n",
    "The number of reported accidents increased significantly from the 1960s through the early 1980s.  \n",
    "A peak appears around the early **1980s**, likely reflecting increased aviation activity during that period.\n",
    "\n",
    "From the 1990s onward, there's a steady decline in accidents, possibly due to:\n",
    "- Advancements in aircraft technology,\n",
    "- Stricter safety regulations, and so on."
   ]
  },
  {
   "cell_type": "code",
   "execution_count": 273,
   "metadata": {},
   "outputs": [
    {
     "data": {
      "image/png": "[encoded data removed]",
      "text/plain": [
       "<Figure size 720x432 with 1 Axes>"
      ]
     },
     "metadata": {},
     "output_type": "display_data"
    }
   ],
   "source": [
    "# Count occurrences\n",
    "accidents_by_month = usa_merged['month_event'].value_counts().sort_index()\n",
    "\n",
    "# Plot\n",
    "plt.figure(figsize=(10,6))\n",
    "accidents_by_month.plot(kind='bar', color='skyblue')\n",
    "\n",
    "plt.title('seasonality of accidents by Month', fontsize=16)\n",
    "plt.xlabel('Month', fontsize=12)\n",
    "plt.ylabel('Number of Accidents', fontsize=12)\n",
    "plt.xticks(rotation=45)\n",
    "plt.grid(axis='y', linestyle='--', alpha=0.7)\n",
    "plt.tight_layout()\n",
    "plt.show()"
   ]
  },
  {
   "cell_type": "markdown",
   "metadata": {},
   "source": [
    "**July, August and september** tend to have the highest number of accidents,   \n",
    "likely due to increased flight activity during the summer travel season, including more private and recreational flights.\n",
    "\n",
    "Whereas **January and February** generally show fewer incidents,  \n",
    "possibly due to reduced flight volume in winter or stricter weather-related cancellations."
   ]
  },
  {
   "cell_type": "markdown",
   "metadata": {},
   "source": [
    "### Geographical Distribution of Accidents"
   ]
  },
  {
   "cell_type": "code",
   "execution_count": 246,
   "metadata": {},
   "outputs": [
    {
     "data": {
      "application/vnd.plotly.v1+json": {
       "config": {
        "plotlyServerURL": "https://plot.ly"
       },
       "data": [
        {
         "coloraxis": "coloraxis",
         "geo": "geo",
         "hovertemplate": "state=%{location}<br>Number of Accidents (1962-2023)=%{z}<extra></extra>",
         "locationmode": "USA-states",
         "locations": [
          "CA",
          "TX",
          "FL",
          "AK",
          "AZ",
          "CO",
          "WA",
          "IL",
          "MI",
          "GA",
          "NY",
          "OH",
          "PA",
          "OR",
          "NC",
          "MO",
          "WI",
          "AR",
          "MN",
          "ID",
          "NM",
          "UT",
          "IN",
          "VA",
          "OK",
          "NV",
          "LA",
          "NJ",
          "AL",
          "TN",
          "KS",
          "MT",
          "SC",
          "MA",
          "IA",
          "MD",
          "MS",
          "WY",
          "NE",
          "KY",
          "ND",
          "ME",
          "CT",
          "HI",
          "SD",
          "WV",
          "NH",
          "VT",
          "RI",
          "DE",
          "PR",
          "GM",
          "DC",
          "AO",
          "PO",
          "GU",
          "VI"
         ],
         "name": "",
         "type": "choropleth",
         "z": [
          8857,
          5913,
          5825,
          5704,
          2834,
          2726,
          2611,
          2060,
          2030,
          2023,
          1914,
          1823,
          1790,
          1772,
          1660,
          1565,
          1560,
          1519,
          1456,
          1436,
          1358,
          1336,
          1320,
          1275,
          1240,
          1236,
          1217,
          1170,
          1153,
          1108,
          1104,
          1050,
          974,
          969,
          819,
          815,
          813,
          739,
          725,
          650,
          561,
          505,
          502,
          476,
          446,
          394,
          368,
          241,
          158,
          114,
          114,
          44,
          42,
          17,
          14,
          8,
          6
         ]
        }
       ],
       "layout": {
        "coloraxis": {
         "colorbar": {
          "title": {
           "text": "Number of Accidents (1962-2023)"
          }
         },
         "colorscale": [
          [
           0,
           "rgb(255,245,240)"
          ],
          [
           0.125,
           "rgb(254,224,210)"
          ],
          [
           0.25,
           "rgb(252,187,161)"
          ],
          [
           0.375,
           "rgb(252,146,114)"
          ],
          [
           0.5,
           "rgb(251,106,74)"
          ],
          [
           0.625,
           "rgb(239,59,44)"
          ],
          [
           0.75,
           "rgb(203,24,29)"
          ],
          [
           0.875,
           "rgb(165,15,21)"
          ],
          [
           1,
           "rgb(103,0,13)"
          ]
         ]
        },
        "geo": {
         "bgcolor": "rgba(0,0,0,0)",
         "center": {},
         "domain": {
          "x": [
           0,
           1
          ],
          "y": [
           0,
           1
          ]
         },
         "scope": "usa"
        },
        "legend": {
         "tracegroupgap": 0
        },
        "template": {
         "data": {
          "bar": [
           {
            "error_x": {
             "color": "#2a3f5f"
            },
            "error_y": {
             "color": "#2a3f5f"
            },
            "marker": {
             "line": {
              "color": "#E5ECF6",
              "width": 0.5
             }
            },
            "type": "bar"
           }
          ],
          "barpolar": [
           {
            "marker": {
             "line": {
              "color": "#E5ECF6",
              "width": 0.5
             }
            },
            "type": "barpolar"
           }
          ],
          "carpet": [
           {
            "aaxis": {
             "endlinecolor": "#2a3f5f",
             "gridcolor": "white",
             "linecolor": "white",
             "minorgridcolor": "white",
             "startlinecolor": "#2a3f5f"
            },
            "baxis": {
             "endlinecolor": "#2a3f5f",
             "gridcolor": "white",
             "linecolor": "white",
             "minorgridcolor": "white",
             "startlinecolor": "#2a3f5f"
            },
            "type": "carpet"
           }
          ],
          "choropleth": [
           {
            "colorbar": {
             "outlinewidth": 0,
             "ticks": ""
            },
            "type": "choropleth"
           }
          ],
          "contour": [
           {
            "colorbar": {
             "outlinewidth": 0,
             "ticks": ""
            },
            "colorscale": [
             [
              0,
              "#0d0887"
             ],
             [
              0.1111111111111111,
              "#46039f"
             ],
             [
              0.2222222222222222,
              "#7201a8"
             ],
             [
              0.3333333333333333,
              "#9c179e"
             ],
             [
              0.4444444444444444,
              "#bd3786"
             ],
             [
              0.5555555555555556,
              "#d8576b"
             ],
             [
              0.6666666666666666,
              "#ed7953"
             ],
             [
              0.7777777777777778,
              "#fb9f3a"
             ],
             [
              0.8888888888888888,
              "#fdca26"
             ],
             [
              1,
              "#f0f921"
             ]
            ],
            "type": "contour"
           }
          ],
          "contourcarpet": [
           {
            "colorbar": {
             "outlinewidth": 0,
             "ticks": ""
            },
            "type": "contourcarpet"
           }
          ],
          "heatmap": [
           {
            "colorbar": {
             "outlinewidth": 0,
             "ticks": ""
            },
            "colorscale": [
             [
              0,
              "#0d0887"
             ],
             [
              0.1111111111111111,
              "#46039f"
             ],
             [
              0.2222222222222222,
              "#7201a8"
             ],
             [
              0.3333333333333333,
              "#9c179e"
             ],
             [
              0.4444444444444444,
              "#bd3786"
             ],
             [
              0.5555555555555556,
              "#d8576b"
             ],
             [
              0.6666666666666666,
              "#ed7953"
             ],
             [
              0.7777777777777778,
              "#fb9f3a"
             ],
             [
              0.8888888888888888,
              "#fdca26"
             ],
             [
              1,
              "#f0f921"
             ]
            ],
            "type": "heatmap"
           }
          ],
          "heatmapgl": [
           {
            "colorbar": {
             "outlinewidth": 0,
             "ticks": ""
            },
            "colorscale": [
             [
              0,
              "#0d0887"
             ],
             [
              0.1111111111111111,
              "#46039f"
             ],
             [
              0.2222222222222222,
              "#7201a8"
             ],
             [
              0.3333333333333333,
              "#9c179e"
             ],
             [
              0.4444444444444444,
              "#bd3786"
             ],
             [
              0.5555555555555556,
              "#d8576b"
             ],
             [
              0.6666666666666666,
              "#ed7953"
             ],
             [
              0.7777777777777778,
              "#fb9f3a"
             ],
             [
              0.8888888888888888,
              "#fdca26"
             ],
             [
              1,
              "#f0f921"
             ]
            ],
            "type": "heatmapgl"
           }
          ],
          "histogram": [
           {
            "marker": {
             "colorbar": {
              "outlinewidth": 0,
              "ticks": ""
             }
            },
            "type": "histogram"
           }
          ],
          "histogram2d": [
           {
            "colorbar": {
             "outlinewidth": 0,
             "ticks": ""
            },
            "colorscale": [
             [
              0,
              "#0d0887"
             ],
             [
              0.1111111111111111,
              "#46039f"
             ],
             [
              0.2222222222222222,
              "#7201a8"
             ],
             [
              0.3333333333333333,
              "#9c179e"
             ],
             [
              0.4444444444444444,
              "#bd3786"
             ],
             [
              0.5555555555555556,
              "#d8576b"
             ],
             [
              0.6666666666666666,
              "#ed7953"
             ],
             [
              0.7777777777777778,
              "#fb9f3a"
             ],
             [
              0.8888888888888888,
              "#fdca26"
             ],
             [
              1,
              "#f0f921"
             ]
            ],
            "type": "histogram2d"
           }
          ],
          "histogram2dcontour": [
           {
            "colorbar": {
             "outlinewidth": 0,
             "ticks": ""
            },
            "colorscale": [
             [
              0,
              "#0d0887"
             ],
             [
              0.1111111111111111,
              "#46039f"
             ],
             [
              0.2222222222222222,
              "#7201a8"
             ],
             [
              0.3333333333333333,
              "#9c179e"
             ],
             [
              0.4444444444444444,
              "#bd3786"
             ],
             [
              0.5555555555555556,
              "#d8576b"
             ],
             [
              0.6666666666666666,
              "#ed7953"
             ],
             [
              0.7777777777777778,
              "#fb9f3a"
             ],
             [
              0.8888888888888888,
              "#fdca26"
             ],
             [
              1,
              "#f0f921"
             ]
            ],
            "type": "histogram2dcontour"
           }
          ],
          "mesh3d": [
           {
            "colorbar": {
             "outlinewidth": 0,
             "ticks": ""
            },
            "type": "mesh3d"
           }
          ],
          "parcoords": [
           {
            "line": {
             "colorbar": {
              "outlinewidth": 0,
              "ticks": ""
             }
            },
            "type": "parcoords"
           }
          ],
          "pie": [
           {
            "automargin": true,
            "type": "pie"
           }
          ],
          "scatter": [
           {
            "marker": {
             "colorbar": {
              "outlinewidth": 0,
              "ticks": ""
             }
            },
            "type": "scatter"
           }
          ],
          "scatter3d": [
           {
            "line": {
             "colorbar": {
              "outlinewidth": 0,
              "ticks": ""
             }
            },
            "marker": {
             "colorbar": {
              "outlinewidth": 0,
              "ticks": ""
             }
            },
            "type": "scatter3d"
           }
          ],
          "scattercarpet": [
           {
            "marker": {
             "colorbar": {
              "outlinewidth": 0,
              "ticks": ""
             }
            },
            "type": "scattercarpet"
           }
          ],
          "scattergeo": [
           {
            "marker": {
             "colorbar": {
              "outlinewidth": 0,
              "ticks": ""
             }
            },
            "type": "scattergeo"
           }
          ],
          "scattergl": [
           {
            "marker": {
             "colorbar": {
              "outlinewidth": 0,
              "ticks": ""
             }
            },
            "type": "scattergl"
           }
          ],
          "scattermapbox": [
           {
            "marker": {
             "colorbar": {
              "outlinewidth": 0,
              "ticks": ""
             }
            },
            "type": "scattermapbox"
           }
          ],
          "scatterpolar": [
           {
            "marker": {
             "colorbar": {
              "outlinewidth": 0,
              "ticks": ""
             }
            },
            "type": "scatterpolar"
           }
          ],
          "scatterpolargl": [
           {
            "marker": {
             "colorbar": {
              "outlinewidth": 0,
              "ticks": ""
             }
            },
            "type": "scatterpolargl"
           }
          ],
          "scatterternary": [
           {
            "marker": {
             "colorbar": {
              "outlinewidth": 0,
              "ticks": ""
             }
            },
            "type": "scatterternary"
           }
          ],
          "surface": [
           {
            "colorbar": {
             "outlinewidth": 0,
             "ticks": ""
            },
            "colorscale": [
             [
              0,
              "#0d0887"
             ],
             [
              0.1111111111111111,
              "#46039f"
             ],
             [
              0.2222222222222222,
              "#7201a8"
             ],
             [
              0.3333333333333333,
              "#9c179e"
             ],
             [
              0.4444444444444444,
              "#bd3786"
             ],
             [
              0.5555555555555556,
              "#d8576b"
             ],
             [
              0.6666666666666666,
              "#ed7953"
             ],
             [
              0.7777777777777778,
              "#fb9f3a"
             ],
             [
              0.8888888888888888,
              "#fdca26"
             ],
             [
              1,
              "#f0f921"
             ]
            ],
            "type": "surface"
           }
          ],
          "table": [
           {
            "cells": {
             "fill": {
              "color": "#EBF0F8"
             },
             "line": {
              "color": "white"
             }
            },
            "header": {
             "fill": {
              "color": "#C8D4E3"
             },
             "line": {
              "color": "white"
             }
            },
            "type": "table"
           }
          ]
         },
         "layout": {
          "annotationdefaults": {
           "arrowcolor": "#2a3f5f",
           "arrowhead": 0,
           "arrowwidth": 1
          },
          "coloraxis": {
           "colorbar": {
            "outlinewidth": 0,
            "ticks": ""
           }
          },
          "colorscale": {
           "diverging": [
            [
             0,
             "#8e0152"
            ],
            [
             0.1,
             "#c51b7d"
            ],
            [
             0.2,
             "#de77ae"
            ],
            [
             0.3,
             "#f1b6da"
            ],
            [
             0.4,
             "#fde0ef"
            ],
            [
             0.5,
             "#f7f7f7"
            ],
            [
             0.6,
             "#e6f5d0"
            ],
            [
             0.7,
             "#b8e186"
            ],
            [
             0.8,
             "#7fbc41"
            ],
            [
             0.9,
             "#4d9221"
            ],
            [
             1,
             "#276419"
            ]
           ],
           "sequential": [
            [
             0,
             "#0d0887"
            ],
            [
             0.1111111111111111,
             "#46039f"
            ],
            [
             0.2222222222222222,
             "#7201a8"
            ],
            [
             0.3333333333333333,
             "#9c179e"
            ],
            [
             0.4444444444444444,
             "#bd3786"
            ],
            [
             0.5555555555555556,
             "#d8576b"
            ],
            [
             0.6666666666666666,
             "#ed7953"
            ],
            [
             0.7777777777777778,
             "#fb9f3a"
            ],
            [
             0.8888888888888888,
             "#fdca26"
            ],
            [
             1,
             "#f0f921"
            ]
           ],
           "sequentialminus": [
            [
             0,
             "#0d0887"
            ],
            [
             0.1111111111111111,
             "#46039f"
            ],
            [
             0.2222222222222222,
             "#7201a8"
            ],
            [
             0.3333333333333333,
             "#9c179e"
            ],
            [
             0.4444444444444444,
             "#bd3786"
            ],
            [
             0.5555555555555556,
             "#d8576b"
            ],
            [
             0.6666666666666666,
             "#ed7953"
            ],
            [
             0.7777777777777778,
             "#fb9f3a"
            ],
            [
             0.8888888888888888,
             "#fdca26"
            ],
            [
             1,
             "#f0f921"
            ]
           ]
          },
          "colorway": [
           "#636efa",
           "#EF553B",
           "#00cc96",
           "#ab63fa",
           "#FFA15A",
           "#19d3f3",
           "#FF6692",
           "#B6E880",
           "#FF97FF",
           "#FECB52"
          ],
          "font": {
           "color": "#2a3f5f"
          },
          "geo": {
           "bgcolor": "white",
           "lakecolor": "white",
           "landcolor": "#E5ECF6",
           "showlakes": true,
           "showland": true,
           "subunitcolor": "white"
          },
          "hoverlabel": {
           "align": "left"
          },
          "hovermode": "closest",
          "mapbox": {
           "style": "light"
          },
          "paper_bgcolor": "white",
          "plot_bgcolor": "#E5ECF6",
          "polar": {
           "angularaxis": {
            "gridcolor": "white",
            "linecolor": "white",
            "ticks": ""
           },
           "bgcolor": "#E5ECF6",
           "radialaxis": {
            "gridcolor": "white",
            "linecolor": "white",
            "ticks": ""
           }
          },
          "scene": {
           "xaxis": {
            "backgroundcolor": "#E5ECF6",
            "gridcolor": "white",
            "gridwidth": 2,
            "linecolor": "white",
            "showbackground": true,
            "ticks": "",
            "zerolinecolor": "white"
           },
           "yaxis": {
            "backgroundcolor": "#E5ECF6",
            "gridcolor": "white",
            "gridwidth": 2,
            "linecolor": "white",
            "showbackground": true,
            "ticks": "",
            "zerolinecolor": "white"
           },
           "zaxis": {
            "backgroundcolor": "#E5ECF6",
            "gridcolor": "white",
            "gridwidth": 2,
            "linecolor": "white",
            "showbackground": true,
            "ticks": "",
            "zerolinecolor": "white"
           }
          },
          "shapedefaults": {
           "line": {
            "color": "#2a3f5f"
           }
          },
          "ternary": {
           "aaxis": {
            "gridcolor": "white",
            "linecolor": "white",
            "ticks": ""
           },
           "baxis": {
            "gridcolor": "white",
            "linecolor": "white",
            "ticks": ""
           },
           "bgcolor": "#E5ECF6",
           "caxis": {
            "gridcolor": "white",
            "linecolor": "white",
            "ticks": ""
           }
          },
          "title": {
           "x": 0.05
          },
          "xaxis": {
           "automargin": true,
           "gridcolor": "white",
           "linecolor": "white",
           "ticks": "",
           "title": {
            "standoff": 15
           },
           "zerolinecolor": "white",
           "zerolinewidth": 2
          },
          "yaxis": {
           "automargin": true,
           "gridcolor": "white",
           "linecolor": "white",
           "ticks": "",
           "title": {
            "standoff": 15
           },
           "zerolinecolor": "white",
           "zerolinewidth": 2
          }
         }
        },
        "title": {
         "text": " Number of Aviation Accidents by U.S. State",
         "x": 0.5
        }
       }
      },
      "text/html": [
       "<div>                            <div id=\"00bf3845-f6da-4b2e-b505-23aafc9cd2eb\" class=\"plotly-graph-div\" style=\"height:525px; width:100%;\"></div>            <script type=\"text/javascript\">                require([\"plotly\"], function(Plotly) {                    window.PLOTLYENV=window.PLOTLYENV || {};                                    if (document.getElementById(\"00bf3845-f6da-4b2e-b505-23aafc9cd2eb\")) {                    Plotly.newPlot(                        \"00bf3845-f6da-4b2e-b505-23aafc9cd2eb\",                        [{\"coloraxis\": \"coloraxis\", \"geo\": \"geo\", \"hovertemplate\": \"state=%{location}<br>Number of Accidents (1962-2023)=%{z}<extra></extra>\", \"locationmode\": \"USA-states\", \"locations\": [\"CA\", \"TX\", \"FL\", \"AK\", \"AZ\", \"CO\", \"WA\", \"IL\", \"MI\", \"GA\", \"NY\", \"OH\", \"PA\", \"OR\", \"NC\", \"MO\", \"WI\", \"AR\", \"MN\", \"ID\", \"NM\", \"UT\", \"IN\", \"VA\", \"OK\", \"NV\", \"LA\", \"NJ\", \"AL\", \"TN\", \"KS\", \"MT\", \"SC\", \"MA\", \"IA\", \"MD\", \"MS\", \"WY\", \"NE\", \"KY\", \"ND\", \"ME\", \"CT\", \"HI\", \"SD\", \"WV\", \"NH\", \"VT\", \"RI\", \"DE\", \"PR\", \"GM\", \"DC\", \"AO\", \"PO\", \"GU\", \"VI\"], \"name\": \"\", \"type\": \"choropleth\", \"z\": [8857, 5913, 5825, 5704, 2834, 2726, 2611, 2060, 2030, 2023, 1914, 1823, 1790, 1772, 1660, 1565, 1560, 1519, 1456, 1436, 1358, 1336, 1320, 1275, 1240, 1236, 1217, 1170, 1153, 1108, 1104, 1050, 974, 969, 819, 815, 813, 739, 725, 650, 561, 505, 502, 476, 446, 394, 368, 241, 158, 114, 114, 44, 42, 17, 14, 8, 6]}],                        {\"coloraxis\": {\"colorbar\": {\"title\": {\"text\": \"Number of Accidents (1962-2023)\"}}, \"colorscale\": [[0.0, \"rgb(255,245,240)\"], [0.125, \"rgb(254,224,210)\"], [0.25, \"rgb(252,187,161)\"], [0.375, \"rgb(252,146,114)\"], [0.5, \"rgb(251,106,74)\"], [0.625, \"rgb(239,59,44)\"], [0.75, \"rgb(203,24,29)\"], [0.875, \"rgb(165,15,21)\"], [1.0, \"rgb(103,0,13)\"]]}, \"geo\": {\"bgcolor\": \"rgba(0,0,0,0)\", \"center\": {}, \"domain\": {\"x\": [0.0, 1.0], \"y\": [0.0, 1.0]}, \"scope\": \"usa\"}, \"legend\": {\"tracegroupgap\": 0}, \"template\": {\"data\": {\"bar\": [{\"error_x\": {\"color\": \"#2a3f5f\"}, \"error_y\": {\"color\": \"#2a3f5f\"}, \"marker\": {\"line\": {\"color\": \"#E5ECF6\", \"width\": 0.5}}, \"type\": \"bar\"}], \"barpolar\": [{\"marker\": {\"line\": {\"color\": \"#E5ECF6\", \"width\": 0.5}}, \"type\": \"barpolar\"}], \"carpet\": [{\"aaxis\": {\"endlinecolor\": \"#2a3f5f\", \"gridcolor\": \"white\", \"linecolor\": \"white\", \"minorgridcolor\": \"white\", \"startlinecolor\": \"#2a3f5f\"}, \"baxis\": {\"endlinecolor\": \"#2a3f5f\", \"gridcolor\": \"white\", \"linecolor\": \"white\", \"minorgridcolor\": \"white\", \"startlinecolor\": \"#2a3f5f\"}, \"type\": \"carpet\"}], \"choropleth\": [{\"colorbar\": {\"outlinewidth\": 0, \"ticks\": \"\"}, \"type\": \"choropleth\"}], \"contour\": [{\"colorbar\": {\"outlinewidth\": 0, \"ticks\": \"\"}, \"colorscale\": [[0.0, \"#0d0887\"], [0.1111111111111111, \"#46039f\"], [0.2222222222222222, \"#7201a8\"], [0.3333333333333333, \"#9c179e\"], [0.4444444444444444, \"#bd3786\"], [0.5555555555555556, \"#d8576b\"], [0.6666666666666666, \"#ed7953\"], [0.7777777777777778, \"#fb9f3a\"], [0.8888888888888888, \"#fdca26\"], [1.0, \"#f0f921\"]], \"type\": \"contour\"}], \"contourcarpet\": [{\"colorbar\": {\"outlinewidth\": 0, \"ticks\": \"\"}, \"type\": \"contourcarpet\"}], \"heatmap\": [{\"colorbar\": {\"outlinewidth\": 0, \"ticks\": \"\"}, \"colorscale\": [[0.0, \"#0d0887\"], [0.1111111111111111, \"#46039f\"], [0.2222222222222222, \"#7201a8\"], [0.3333333333333333, \"#9c179e\"], [0.4444444444444444, \"#bd3786\"], [0.5555555555555556, \"#d8576b\"], [0.6666666666666666, \"#ed7953\"], [0.7777777777777778, \"#fb9f3a\"], [0.8888888888888888, \"#fdca26\"], [1.0, \"#f0f921\"]], \"type\": \"heatmap\"}], \"heatmapgl\": [{\"colorbar\": {\"outlinewidth\": 0, \"ticks\": \"\"}, \"colorscale\": [[0.0, \"#0d0887\"], [0.1111111111111111, \"#46039f\"], [0.2222222222222222, \"#7201a8\"], [0.3333333333333333, \"#9c179e\"], [0.4444444444444444, \"#bd3786\"], [0.5555555555555556, \"#d8576b\"], [0.6666666666666666, \"#ed7953\"], [0.7777777777777778, \"#fb9f3a\"], [0.8888888888888888, \"#fdca26\"], [1.0, \"#f0f921\"]], \"type\": \"heatmapgl\"}], \"histogram\": [{\"marker\": {\"colorbar\": {\"outlinewidth\": 0, \"ticks\": \"\"}}, \"type\": \"histogram\"}], \"histogram2d\": [{\"colorbar\": {\"outlinewidth\": 0, \"ticks\": \"\"}, \"colorscale\": [[0.0, \"#0d0887\"], [0.1111111111111111, \"#46039f\"], [0.2222222222222222, \"#7201a8\"], [0.3333333333333333, \"#9c179e\"], [0.4444444444444444, \"#bd3786\"], [0.5555555555555556, \"#d8576b\"], [0.6666666666666666, \"#ed7953\"], [0.7777777777777778, \"#fb9f3a\"], [0.8888888888888888, \"#fdca26\"], [1.0, \"#f0f921\"]], \"type\": \"histogram2d\"}], \"histogram2dcontour\": [{\"colorbar\": {\"outlinewidth\": 0, \"ticks\": \"\"}, \"colorscale\": [[0.0, \"#0d0887\"], [0.1111111111111111, \"#46039f\"], [0.2222222222222222, \"#7201a8\"], [0.3333333333333333, \"#9c179e\"], [0.4444444444444444, \"#bd3786\"], [0.5555555555555556, \"#d8576b\"], [0.6666666666666666, \"#ed7953\"], [0.7777777777777778, \"#fb9f3a\"], [0.8888888888888888, \"#fdca26\"], [1.0, \"#f0f921\"]], \"type\": \"histogram2dcontour\"}], \"mesh3d\": [{\"colorbar\": {\"outlinewidth\": 0, \"ticks\": \"\"}, \"type\": \"mesh3d\"}], \"parcoords\": [{\"line\": {\"colorbar\": {\"outlinewidth\": 0, \"ticks\": \"\"}}, \"type\": \"parcoords\"}], \"pie\": [{\"automargin\": true, \"type\": \"pie\"}], \"scatter\": [{\"marker\": {\"colorbar\": {\"outlinewidth\": 0, \"ticks\": \"\"}}, \"type\": \"scatter\"}], \"scatter3d\": [{\"line\": {\"colorbar\": {\"outlinewidth\": 0, \"ticks\": \"\"}}, \"marker\": {\"colorbar\": {\"outlinewidth\": 0, \"ticks\": \"\"}}, \"type\": \"scatter3d\"}], \"scattercarpet\": [{\"marker\": {\"colorbar\": {\"outlinewidth\": 0, \"ticks\": \"\"}}, \"type\": \"scattercarpet\"}], \"scattergeo\": [{\"marker\": {\"colorbar\": {\"outlinewidth\": 0, \"ticks\": \"\"}}, \"type\": \"scattergeo\"}], \"scattergl\": [{\"marker\": {\"colorbar\": {\"outlinewidth\": 0, \"ticks\": \"\"}}, \"type\": \"scattergl\"}], \"scattermapbox\": [{\"marker\": {\"colorbar\": {\"outlinewidth\": 0, \"ticks\": \"\"}}, \"type\": \"scattermapbox\"}], \"scatterpolar\": [{\"marker\": {\"colorbar\": {\"outlinewidth\": 0, \"ticks\": \"\"}}, \"type\": \"scatterpolar\"}], \"scatterpolargl\": [{\"marker\": {\"colorbar\": {\"outlinewidth\": 0, \"ticks\": \"\"}}, \"type\": \"scatterpolargl\"}], \"scatterternary\": [{\"marker\": {\"colorbar\": {\"outlinewidth\": 0, \"ticks\": \"\"}}, \"type\": \"scatterternary\"}], \"surface\": [{\"colorbar\": {\"outlinewidth\": 0, \"ticks\": \"\"}, \"colorscale\": [[0.0, \"#0d0887\"], [0.1111111111111111, \"#46039f\"], [0.2222222222222222, \"#7201a8\"], [0.3333333333333333, \"#9c179e\"], [0.4444444444444444, \"#bd3786\"], [0.5555555555555556, \"#d8576b\"], [0.6666666666666666, \"#ed7953\"], [0.7777777777777778, \"#fb9f3a\"], [0.8888888888888888, \"#fdca26\"], [1.0, \"#f0f921\"]], \"type\": \"surface\"}], \"table\": [{\"cells\": {\"fill\": {\"color\": \"#EBF0F8\"}, \"line\": {\"color\": \"white\"}}, \"header\": {\"fill\": {\"color\": \"#C8D4E3\"}, \"line\": {\"color\": \"white\"}}, \"type\": \"table\"}]}, \"layout\": {\"annotationdefaults\": {\"arrowcolor\": \"#2a3f5f\", \"arrowhead\": 0, \"arrowwidth\": 1}, \"coloraxis\": {\"colorbar\": {\"outlinewidth\": 0, \"ticks\": \"\"}}, \"colorscale\": {\"diverging\": [[0, \"#8e0152\"], [0.1, \"#c51b7d\"], [0.2, \"#de77ae\"], [0.3, \"#f1b6da\"], [0.4, \"#fde0ef\"], [0.5, \"#f7f7f7\"], [0.6, \"#e6f5d0\"], [0.7, \"#b8e186\"], [0.8, \"#7fbc41\"], [0.9, \"#4d9221\"], [1, \"#276419\"]], \"sequential\": [[0.0, \"#0d0887\"], [0.1111111111111111, \"#46039f\"], [0.2222222222222222, \"#7201a8\"], [0.3333333333333333, \"#9c179e\"], [0.4444444444444444, \"#bd3786\"], [0.5555555555555556, \"#d8576b\"], [0.6666666666666666, \"#ed7953\"], [0.7777777777777778, \"#fb9f3a\"], [0.8888888888888888, \"#fdca26\"], [1.0, \"#f0f921\"]], \"sequentialminus\": [[0.0, \"#0d0887\"], [0.1111111111111111, \"#46039f\"], [0.2222222222222222, \"#7201a8\"], [0.3333333333333333, \"#9c179e\"], [0.4444444444444444, \"#bd3786\"], [0.5555555555555556, \"#d8576b\"], [0.6666666666666666, \"#ed7953\"], [0.7777777777777778, \"#fb9f3a\"], [0.8888888888888888, \"#fdca26\"], [1.0, \"#f0f921\"]]}, \"colorway\": [\"#636efa\", \"#EF553B\", \"#00cc96\", \"#ab63fa\", \"#FFA15A\", \"#19d3f3\", \"#FF6692\", \"#B6E880\", \"#FF97FF\", \"#FECB52\"], \"font\": {\"color\": \"#2a3f5f\"}, \"geo\": {\"bgcolor\": \"white\", \"lakecolor\": \"white\", \"landcolor\": \"#E5ECF6\", \"showlakes\": true, \"showland\": true, \"subunitcolor\": \"white\"}, \"hoverlabel\": {\"align\": \"left\"}, \"hovermode\": \"closest\", \"mapbox\": {\"style\": \"light\"}, \"paper_bgcolor\": \"white\", \"plot_bgcolor\": \"#E5ECF6\", \"polar\": {\"angularaxis\": {\"gridcolor\": \"white\", \"linecolor\": \"white\", \"ticks\": \"\"}, \"bgcolor\": \"#E5ECF6\", \"radialaxis\": {\"gridcolor\": \"white\", \"linecolor\": \"white\", \"ticks\": \"\"}}, \"scene\": {\"xaxis\": {\"backgroundcolor\": \"#E5ECF6\", \"gridcolor\": \"white\", \"gridwidth\": 2, \"linecolor\": \"white\", \"showbackground\": true, \"ticks\": \"\", \"zerolinecolor\": \"white\"}, \"yaxis\": {\"backgroundcolor\": \"#E5ECF6\", \"gridcolor\": \"white\", \"gridwidth\": 2, \"linecolor\": \"white\", \"showbackground\": true, \"ticks\": \"\", \"zerolinecolor\": \"white\"}, \"zaxis\": {\"backgroundcolor\": \"#E5ECF6\", \"gridcolor\": \"white\", \"gridwidth\": 2, \"linecolor\": \"white\", \"showbackground\": true, \"ticks\": \"\", \"zerolinecolor\": \"white\"}}, \"shapedefaults\": {\"line\": {\"color\": \"#2a3f5f\"}}, \"ternary\": {\"aaxis\": {\"gridcolor\": \"white\", \"linecolor\": \"white\", \"ticks\": \"\"}, \"baxis\": {\"gridcolor\": \"white\", \"linecolor\": \"white\", \"ticks\": \"\"}, \"bgcolor\": \"#E5ECF6\", \"caxis\": {\"gridcolor\": \"white\", \"linecolor\": \"white\", \"ticks\": \"\"}}, \"title\": {\"x\": 0.05}, \"xaxis\": {\"automargin\": true, \"gridcolor\": \"white\", \"linecolor\": \"white\", \"ticks\": \"\", \"title\": {\"standoff\": 15}, \"zerolinecolor\": \"white\", \"zerolinewidth\": 2}, \"yaxis\": {\"automargin\": true, \"gridcolor\": \"white\", \"linecolor\": \"white\", \"ticks\": \"\", \"title\": {\"standoff\": 15}, \"zerolinecolor\": \"white\", \"zerolinewidth\": 2}}}, \"title\": {\"text\": \" Number of Aviation Accidents by U.S. State\", \"x\": 0.5}},                        {\"responsive\": true}                    ).then(function(){\n",
       "                            \n",
       "var gd = document.getElementById('00bf3845-f6da-4b2e-b505-23aafc9cd2eb');\n",
       "var x = new MutationObserver(function (mutations, observer) {{\n",
       "        var display = window.getComputedStyle(gd).display;\n",
       "        if (!display || display === 'none') {{\n",
       "            console.log([gd, 'removed!']);\n",
       "            Plotly.purge(gd);\n",
       "            observer.disconnect();\n",
       "        }}\n",
       "}});\n",
       "\n",
       "// Listen for the removal of the full notebook cells\n",
       "var notebookContainer = gd.closest('#notebook-container');\n",
       "if (notebookContainer) {{\n",
       "    x.observe(notebookContainer, {childList: true});\n",
       "}}\n",
       "\n",
       "// Listen for the clearing of the current output cell\n",
       "var outputEl = gd.closest('.output');\n",
       "if (outputEl) {{\n",
       "    x.observe(outputEl, {childList: true});\n",
       "}}\n",
       "\n",
       "                        })                };                });            </script>        </div>"
      ]
     },
     "metadata": {},
     "output_type": "display_data"
    }
   ],
   "source": [
    "# Count accidents by state (must be 2-letter codes)\n",
    "accidents_by_state = usa_merged['location_id'].value_counts().reset_index()\n",
    "accidents_by_state.columns = ['state', 'accident_count']\n",
    "\n",
    "# Plot\n",
    "fig = px.choropleth(\n",
    "    accidents_by_state,\n",
    "    locations='state',  # column with 2-letter state codes\n",
    "    locationmode='USA-states',\n",
    "    color='accident_count',\n",
    "    scope='usa',\n",
    "    color_continuous_scale='Reds',\n",
    "    labels={'accident_count': 'Number of Accidents (1962-2023)'},\n",
    "    title=' Number of Aviation Accidents by U.S. State'\n",
    ")\n",
    "\n",
    "fig.update_layout(\n",
    "    geo=dict(bgcolor='rgba(0,0,0,0)'),\n",
    "    title_x=0.5\n",
    ")\n",
    "\n",
    "fig.show()"
   ]
  },
  {
   "cell_type": "markdown",
   "metadata": {},
   "source": [
    "####  Aviation Accidents by U.S. State\n",
    "##### California has the highest number of accidents, followed by Texas and Florida.   \n",
    "Reflecting their large populations and heavy air traffic. Alaska ranks surprisingly high due to its challenging flying conditions.  \n",
    "Smaller states generally show fewer accidents, consistent with lower aviation activity.\n",
    "\n"
   ]
  },
  {
   "cell_type": "markdown",
   "metadata": {},
   "source": [
    "### Aircraft Manufacturer (Make) Risk \n",
    "\n",
    "In this section, im going to analyse the risk by manufacturer to see which has **higher risk or lower risk**,  \n",
    "\n",
    "So that investissor could make the best decisions"
   ]
  },
  {
   "cell_type": "code",
   "execution_count": 278,
   "metadata": {
    "scrolled": true
   },
   "outputs": [
    {
     "name": "stdout",
     "output_type": "stream",
     "text": [
      "make\n",
      "boeing      0.908412\n",
      "beech       0.615932\n",
      "mooney      0.494973\n",
      "piper       0.399026\n",
      "bellanca    0.327238\n",
      "bell        0.318202\n",
      "cessna      0.291758\n",
      "robinson    0.255991\n",
      "grumman     0.182852\n",
      "hughes      0.176471\n",
      "Name: total_fatal_injuries, dtype: float64\n"
     ]
    }
   ],
   "source": [
    "# now, im going Get the top 10 most common aircraft manufacturers\n",
    "\n",
    "top_10_makes = usa_merged['make'].value_counts().head(10).index\n",
    "\n",
    "# I Filter the usa_merged dataset to include only those top 10 manufacturers\n",
    "top_10_data = usa_merged[usa_merged['make'].isin(top_10_makes)]\n",
    "\n",
    "# Here, Calculate average number of fatal injuries per manufacturer\n",
    "avg_fatalities_per_make = (\n",
    "    top_10_data\n",
    "    .groupby('make')['total_fatal_injuries']\n",
    "    .mean()\n",
    "    .sort_values(ascending=False)\n",
    ")\n",
    "\n",
    "# avg_fatalities_per_make.columns = ['Manufacturer', 'Avg Fatalities per Accident']\n",
    "\n",
    "\n",
    "# Here, I Display the result\n",
    "\n",
    "print(avg_fatalities_per_make)"
   ]
  },
  {
   "cell_type": "code",
   "execution_count": 361,
   "metadata": {},
   "outputs": [
    {
     "data": {
      "image/png": "[encoded data removed]",
      "text/plain": [
       "<Figure size 864x504 with 1 Axes>"
      ]
     },
     "metadata": {},
     "output_type": "display_data"
    }
   ],
   "source": [
    "# Prepare the top 10 makes by number of accidents\n",
    "top_makes = make_counts.head(10)\n",
    "top_makes.columns = ['MAKE', 'NUMBER_OF_ACCIDENTS']\n",
    "\n",
    "# here, im Setting up the plot\n",
    "plt.figure(figsize=(12, 7))\n",
    "sns.set_style(\"whitegrid\")\n",
    "\n",
    "# I Create vertical bar plot, because it's a categorical variable\n",
    "barplot = sns.barplot(\n",
    "    data=top_makes,\n",
    "    x='MAKE',\n",
    "    y='NUMBER_OF_ACCIDENTS',\n",
    "    palette='coolwarm'\n",
    ")\n",
    "\n",
    "# i'm addind title, and fix axis\n",
    "plt.title('Top 10 Aircraft Manufacturers by Number of Accidents', fontsize=16, weight='bold')\n",
    "plt.xlabel('Aircraft Manufacturer', fontsize=15,weight='bold' )\n",
    "plt.ylabel('Number of Accidents', fontsize=15, weight='bold')\n",
    "\n",
    "# Rotate x-axis labels for better readability\n",
    "plt.xticks(rotation=45)\n",
    "\n",
    "# Annotate bars with exact values\n",
    "for index, row in top_makes.iterrows():\n",
    "    plt.text(x=index, y=row['NUMBER_OF_ACCIDENTS'] + 100, s=str(row['NUMBER_OF_ACCIDENTS']), ha='center')\n",
    "\n",
    "plt.tight_layout()\n",
    "plt.show()"
   ]
  },
  {
   "cell_type": "markdown",
   "metadata": {},
   "source": [
    "\n",
    "### As we see above, that certain manufacturers appear far more frequently in accident reports.\n",
    "\n",
    "This may reflect their dominance in the market rather than poor safety records.\n",
    "For example, if manufacturers like **Cessna or Piper lead** in accident counts, it's likely due to their widespread use in general aviation. Then, what I can say to stakholders so far is : Investors should interpret and understand this data cautiously, high accident counts may indicate high exposure,\n",
    "that's mean :\n",
    "- More aircraft in operation\n",
    "- Not necessarily higher risk per aircraft.\n",
    "\n",
    "\n",
    "Howerver, While **Cessna** appears frequently in accident reports, it has a relatively low fatality rate per accident.  \n",
    "In contrast, **Boeing** , though involved in fewer accidents overall, shows the highest average fatalities,  \n",
    "which likely reflects the higher passenger capacity of Boeing aircraft.\n",
    "\n",
    "This suggests that accidents involving large commercial aircraft **(like Boeing)** are rarer but potentially more severe, \n",
    "while general aviation aircraft **(like Cessna and Piper)** are involved in more frequent, but typically less deadly, incidents."
   ]
  },
  {
   "cell_type": "markdown",
   "metadata": {},
   "source": [
    "###  Accidents by Weather Condition"
   ]
  },
  {
   "cell_type": "code",
   "execution_count": 377,
   "metadata": {
    "scrolled": false
   },
   "outputs": [
    {
     "data": {
      "text/plain": [
       "<Figure size 576x360 with 0 Axes>"
      ]
     },
     "metadata": {},
     "output_type": "display_data"
    },
    {
     "data": {
      "image/png": "[encoded data removed]",
      "text/plain": [
       "<Figure size 432x288 with 1 Axes>"
      ]
     },
     "metadata": {},
     "output_type": "display_data"
    }
   ],
   "source": [
    "# Herae i'm creating a bar chart base on number of accidents by weather condition \n",
    "\n",
    "weather_counts = (\n",
    "    usa_merged['weather_condition']\n",
    "    .value_counts(normalize = True)\n",
    "    .reset_index()\n",
    "    .rename(columns={'index': 'Weather Condition', 'weather_condition': 'Accident Count'})\n",
    ")\n",
    "\n",
    "plt.figure(figsize=(8,5))\n",
    "weather_counts.plot(\n",
    "    kind='bar',\n",
    "    x='Weather Condition',\n",
    "    y='Accident Count',\n",
    "    color='skyblue',\n",
    "    legend=False\n",
    ")\n",
    "\n",
    "plt.title('Aviation Accidents by Weather Condition', fontsize=14)\n",
    "plt.ylabel('Number of Accidents')\n",
    "plt.xticks(rotation=45)\n",
    "plt.grid(axis='y', linestyle='--', alpha=0.7)\n",
    "plt.tight_layout()\n",
    "plt.show()\n"
   ]
  },
  {
   "cell_type": "markdown",
   "metadata": {},
   "source": [
    "###  Accidents by Weather Condition\n",
    "\n",
    "- **Visual Meteorological Conditions (VMC)** accounted for **93.16%** of all recorded accidents.\n",
    "- **Instrument Meteorological Conditions (IMC)** were involved in only **6.84%** of cases.\n",
    "\n",
    "This strong imbalance suggests that most accidents occur during clear weather, likely due to higher flight frequency under VMC. However, IMC-related accidents, though fewer, may involve **higher risk and severity**, given the challenges of flying in poor visibility and adverse weather conditions."
   ]
  },
  {
   "cell_type": "code",
   "execution_count": 300,
   "metadata": {},
   "outputs": [
    {
     "data": {
      "image/png": "[encoded data removed]",
      "text/plain": [
       "<Figure size 576x576 with 1 Axes>"
      ]
     },
     "metadata": {},
     "output_type": "display_data"
    }
   ],
   "source": [
    "# Count occurrences\n",
    "amateur_counts = usa_merged['amateur_built'].value_counts()\n",
    "labels = ['No', 'Yes']\n",
    "colors = ['#66b3ff', '#ff9999']\n",
    "\n",
    "# i\"m creating a pie chart, because this categorical variable only contains two categories\n",
    "plt.figure(figsize=(8,8))\n",
    "patches, texts, autotexts = plt.pie(\n",
    "    amateur_counts,\n",
    "    labels=labels,\n",
    "    autopct='%1.1f%%',\n",
    "    startangle=140,\n",
    "    colors=colors,\n",
    "    explode=(0, 0.05),\n",
    "    shadow=True,\n",
    "    textprops={'fontsize': 14}\n",
    ")\n",
    "\n",
    "# Year, im goint to Style legend\n",
    "plt.legend(patches, labels, title=\"Amateur Built\", fontsize=13, title_fontsize=14, loc=\"upper right\")\n",
    "\n",
    "plt.title('Proportion of Amateur-Built Aircraft in U.S. Aviation Accidents', fontsize=16)\n",
    "plt.tight_layout()\n",
    "plt.show()\n",
    "\n",
    "\n"
   ]
  },
  {
   "cell_type": "markdown",
   "metadata": {},
   "source": [
    "only a small proportion 10.1 % of aircraft involved in accidents were amateur-built,  \n",
    "while over 89.9 % were professionally manufactured.  \n",
    "This is consistent with market share, as most flights are conducted by certified aircraft.   \n",
    "However, the presence of amateur-built aircraft in accident records still represents a notable risk factor, especially in the private and recreational aviation sector, and warrants careful oversight by insurers and regulators."
   ]
  },
  {
   "cell_type": "code",
   "execution_count": 378,
   "metadata": {
    "collapsed": true
   },
   "outputs": [
    {
     "data": {
      "text/html": [
       "<div>\n",
       "<style scoped>\n",
       "    .dataframe tbody tr th:only-of-type {\n",
       "        vertical-align: middle;\n",
       "    }\n",
       "\n",
       "    .dataframe tbody tr th {\n",
       "        vertical-align: top;\n",
       "    }\n",
       "\n",
       "    .dataframe thead th {\n",
       "        text-align: right;\n",
       "    }\n",
       "</style>\n",
       "<table border=\"1\" class=\"dataframe\">\n",
       "  <thead>\n",
       "    <tr style=\"text-align: right;\">\n",
       "      <th></th>\n",
       "      <th>make</th>\n",
       "      <th>amateur_built</th>\n",
       "      <th>amateur_built_count</th>\n",
       "      <th>aircraft_damage_count</th>\n",
       "    </tr>\n",
       "  </thead>\n",
       "  <tbody>\n",
       "    <tr>\n",
       "      <th>8</th>\n",
       "      <td>cessna</td>\n",
       "      <td>No</td>\n",
       "      <td>25771</td>\n",
       "      <td>25771</td>\n",
       "    </tr>\n",
       "    <tr>\n",
       "      <th>16</th>\n",
       "      <td>piper</td>\n",
       "      <td>No</td>\n",
       "      <td>14123</td>\n",
       "      <td>14123</td>\n",
       "    </tr>\n",
       "    <tr>\n",
       "      <th>0</th>\n",
       "      <td>beech</td>\n",
       "      <td>No</td>\n",
       "      <td>5044</td>\n",
       "      <td>5044</td>\n",
       "    </tr>\n",
       "    <tr>\n",
       "      <th>2</th>\n",
       "      <td>bell</td>\n",
       "      <td>No</td>\n",
       "      <td>2256</td>\n",
       "      <td>2256</td>\n",
       "    </tr>\n",
       "    <tr>\n",
       "      <th>6</th>\n",
       "      <td>boeing</td>\n",
       "      <td>No</td>\n",
       "      <td>1472</td>\n",
       "      <td>1472</td>\n",
       "    </tr>\n",
       "    <tr>\n",
       "      <th>14</th>\n",
       "      <td>mooney</td>\n",
       "      <td>No</td>\n",
       "      <td>1285</td>\n",
       "      <td>1285</td>\n",
       "    </tr>\n",
       "    <tr>\n",
       "      <th>10</th>\n",
       "      <td>grumman</td>\n",
       "      <td>No</td>\n",
       "      <td>1138</td>\n",
       "      <td>1138</td>\n",
       "    </tr>\n",
       "    <tr>\n",
       "      <th>4</th>\n",
       "      <td>bellanca</td>\n",
       "      <td>No</td>\n",
       "      <td>1034</td>\n",
       "      <td>1034</td>\n",
       "    </tr>\n",
       "    <tr>\n",
       "      <th>18</th>\n",
       "      <td>robinson</td>\n",
       "      <td>No</td>\n",
       "      <td>911</td>\n",
       "      <td>911</td>\n",
       "    </tr>\n",
       "    <tr>\n",
       "      <th>12</th>\n",
       "      <td>hughes</td>\n",
       "      <td>No</td>\n",
       "      <td>864</td>\n",
       "      <td>864</td>\n",
       "    </tr>\n",
       "    <tr>\n",
       "      <th>9</th>\n",
       "      <td>cessna</td>\n",
       "      <td>Yes</td>\n",
       "      <td>110</td>\n",
       "      <td>110</td>\n",
       "    </tr>\n",
       "    <tr>\n",
       "      <th>17</th>\n",
       "      <td>piper</td>\n",
       "      <td>Yes</td>\n",
       "      <td>39</td>\n",
       "      <td>39</td>\n",
       "    </tr>\n",
       "    <tr>\n",
       "      <th>1</th>\n",
       "      <td>beech</td>\n",
       "      <td>Yes</td>\n",
       "      <td>15</td>\n",
       "      <td>15</td>\n",
       "    </tr>\n",
       "    <tr>\n",
       "      <th>3</th>\n",
       "      <td>bell</td>\n",
       "      <td>Yes</td>\n",
       "      <td>13</td>\n",
       "      <td>13</td>\n",
       "    </tr>\n",
       "    <tr>\n",
       "      <th>15</th>\n",
       "      <td>mooney</td>\n",
       "      <td>Yes</td>\n",
       "      <td>8</td>\n",
       "      <td>8</td>\n",
       "    </tr>\n",
       "    <tr>\n",
       "      <th>19</th>\n",
       "      <td>robinson</td>\n",
       "      <td>Yes</td>\n",
       "      <td>7</td>\n",
       "      <td>7</td>\n",
       "    </tr>\n",
       "    <tr>\n",
       "      <th>5</th>\n",
       "      <td>bellanca</td>\n",
       "      <td>Yes</td>\n",
       "      <td>5</td>\n",
       "      <td>5</td>\n",
       "    </tr>\n",
       "    <tr>\n",
       "      <th>11</th>\n",
       "      <td>grumman</td>\n",
       "      <td>Yes</td>\n",
       "      <td>5</td>\n",
       "      <td>5</td>\n",
       "    </tr>\n",
       "    <tr>\n",
       "      <th>13</th>\n",
       "      <td>hughes</td>\n",
       "      <td>Yes</td>\n",
       "      <td>3</td>\n",
       "      <td>3</td>\n",
       "    </tr>\n",
       "    <tr>\n",
       "      <th>7</th>\n",
       "      <td>boeing</td>\n",
       "      <td>Yes</td>\n",
       "      <td>2</td>\n",
       "      <td>2</td>\n",
       "    </tr>\n",
       "  </tbody>\n",
       "</table>\n",
       "</div>"
      ],
      "text/plain": [
       "        make amateur_built  amateur_built_count  aircraft_damage_count\n",
       "8     cessna            No                25771                  25771\n",
       "16     piper            No                14123                  14123\n",
       "0      beech            No                 5044                   5044\n",
       "2       bell            No                 2256                   2256\n",
       "6     boeing            No                 1472                   1472\n",
       "14    mooney            No                 1285                   1285\n",
       "10   grumman            No                 1138                   1138\n",
       "4   bellanca            No                 1034                   1034\n",
       "18  robinson            No                  911                    911\n",
       "12    hughes            No                  864                    864\n",
       "9     cessna           Yes                  110                    110\n",
       "17     piper           Yes                   39                     39\n",
       "1      beech           Yes                   15                     15\n",
       "3       bell           Yes                   13                     13\n",
       "15    mooney           Yes                    8                      8\n",
       "19  robinson           Yes                    7                      7\n",
       "5   bellanca           Yes                    5                      5\n",
       "11   grumman           Yes                    5                      5\n",
       "13    hughes           Yes                    3                      3\n",
       "7     boeing           Yes                    2                      2"
      ]
     },
     "execution_count": 378,
     "metadata": {},
     "output_type": "execute_result"
    }
   ],
   "source": [
    "\n",
    "# I Identify top 10 aircraft makes by accident frequency\n",
    "top_10_makes = usa_merged['make'].value_counts().head(10).index\n",
    "\n",
    "# So now, i need to Filter the Dusa_merged to include only the top 10 makes\n",
    "filtered_df = usa_merged[usa_merged['make'].isin(top_10_makes)]\n",
    "\n",
    "# I Group by 'make' and 'amateur_built', then count both columns\n",
    "risk_table_top10 = (\n",
    "    filtered_df\n",
    "    .groupby(['make', 'amateur_built'])[['amateur_built', 'aircraft_damage']]\n",
    "    .count()\n",
    "    .rename(columns={\n",
    "        'amateur_built': 'amateur_built_count',\n",
    "        'aircraft_damage': 'aircraft_damage_count'\n",
    "    })\n",
    ")\n",
    "\n",
    "# I Reset the index so 'make' and 'amateur_built' become regular columns\n",
    "risk_table_top10 = risk_table_top10.reset_index()  # ← Resetting the index here\n",
    "\n",
    "# I sort by total count of both fields combined\n",
    "risk_table_top10['total'] = risk_table_top10['amateur_built_count'] + risk_table_top10['aircraft_damage_count']\n",
    "risk_table_top10 = risk_table_top10.sort_values(by='total', ascending=False).drop(columns='total')\n",
    "\n",
    "# This time now, Show the result\n",
    "risk_table_top10"
   ]
  },
  {
   "cell_type": "code",
   "execution_count": 360,
   "metadata": {},
   "outputs": [
    {
     "data": {
      "image/png": "[encoded data removed]",
      "text/plain": [
       "<Figure size 864x432 with 1 Axes>"
      ]
     },
     "metadata": {},
     "output_type": "display_data"
    }
   ],
   "source": [
    "pivot_df = grouped.pivot(index='make', columns='weather_condition', values='accident_count').fillna(0)\n",
    "\n",
    "# Plot stacked bar chart\n",
    "pivot_df.plot(kind='bar', stacked=True, figsize=(12,6), color=['#66c2a5', '#fc8d62'])  # customize colors if you want\n",
    "\n",
    "plt.title('Accident Counts by Aircraft Make and Weather Condition', fontsize=14)\n",
    "plt.xlabel('Aircraft Manufacturer')\n",
    "plt.ylabel('Number of Accidents')\n",
    "plt.xticks(rotation=45)\n",
    "plt.legend(title='Weather Condition')\n",
    "plt.grid(axis='y', linestyle='--', alpha=0.6)\n",
    "plt.tight_layout()\n",
    "plt.show()"
   ]
  },
  {
   "cell_type": "code",
   "execution_count": 365,
   "metadata": {},
   "outputs": [
    {
     "data": {
      "image/png": "[encoded data removed]",
      "text/plain": [
       "<Figure size 576x360 with 1 Axes>"
      ]
     },
     "metadata": {},
     "output_type": "display_data"
    }
   ],
   "source": [
    "total_fatalities = usa_merged['total_fatal_injuries'].sum()\n",
    "total_serious = usa_merged['total_serious_injuries'].sum()\n",
    "total_minor = usa_merged['total_minor_injuries'].sum()\n",
    "total_uninjured = usa_merged['total_uninjured'].sum()\n",
    "\n",
    "# it would be good to Prepare data for plotting\n",
    "injury_types = ['Fatal', 'Serious', 'Minor', 'Uninjured']\n",
    "totals = [total_fatalities, total_serious, total_minor, total_uninjured]\n",
    "\n",
    "# i do my Bar chart now\n",
    "plt.figure(figsize=(8, 5))\n",
    "plt.bar(injury_types, totals, color=['red', 'orange', 'yellow', 'green'])\n",
    "plt.title('Total Injuries Reported in Accidents')\n",
    "plt.ylabel('Number of People')\n",
    "plt.xlabel('Injury Type')\n",
    "plt.grid(axis='y', linestyle='--', alpha=0.7)\n",
    "plt.tight_layout()\n",
    "plt.show()\n"
   ]
  },
  {
   "cell_type": "markdown",
   "metadata": {},
   "source": [
    "### Total Injuries by Top 10 Aircraft Makes"
   ]
  },
  {
   "cell_type": "code",
   "execution_count": 369,
   "metadata": {},
   "outputs": [
    {
     "data": {
      "image/png": "[encoded data removed]",
      "text/plain": [
       "<Figure size 1008x432 with 1 Axes>"
      ]
     },
     "metadata": {},
     "output_type": "display_data"
    }
   ],
   "source": [
    "top_makes = usa_merged['make'].value_counts().head(10).index\n",
    "\n",
    "# I Filter the usa_merged to only these top makes\n",
    "top_make_data = usa_merged[usa_merged['make'].isin(top_makes)]\n",
    "\n",
    "# I group by 'make' and sum injury fields\n",
    "injury_by_make = top_make_data.groupby('make')[[\n",
    "    'total_fatal_injuries',\n",
    "    'total_serious_injuries',\n",
    "    'total_minor_injuries',\n",
    "    'total_uninjured'\n",
    "]].sum()\n",
    "\n",
    "# i sart so bar chart is clean and consistent\n",
    "injury_by_make = injury_by_make.sort_values(by='total_fatal_injuries', ascending=False)\n",
    "\n",
    "# this is time to plot\n",
    "injury_by_make.plot(kind='bar',\n",
    "                    figsize=(14, 6),\n",
    "                    color=['red', 'orange', 'yellow', 'green'],\n",
    "                    title='Injuries by Top 10 Aircraft Makes')\n",
    "\n",
    "plt.xlabel('Aircraft Make')\n",
    "plt.ylabel('Number of People')\n",
    "plt.legend(['Fatal', 'Serious', 'Minor', 'Uninjured'])\n",
    "plt.xticks(rotation=45, ha='right')\n",
    "plt.grid(axis='y', linestyle='--', alpha=0.6)\n",
    "plt.tight_layout()\n",
    "plt.show()"
   ]
  },
  {
   "cell_type": "markdown",
   "metadata": {},
   "source": [
    "**Cessna and Piper** account for the highest total injuries due to their frequent involvement in accidents,   \n",
    "reflecting their widespread use in general aviation. While they lead in fatalities, they also show high numbers of uninjured passengers, indicating a broad range of accident severities.  \n",
    "\n",
    "**Helicopter** manufacturers like Bell and Robinson show fewer fatalities and more minor injuries or uninjured outcomes, suggesting lower average severity. Boeing, though less frequent, shows a higher fatality impact per event, consistent with commercial aircraft carrying more passengers. Overall, severity varies significantly by manufacturer, influenced by aircraft type, usage context, and operational scale.\n",
    "\n"
   ]
  },
  {
   "cell_type": "markdown",
   "metadata": {},
   "source": [
    "### Business Recommendation 1"
   ]
  },
  {
   "cell_type": "markdown",
   "metadata": {},
   "source": [
    "### Economic Perspective and Risk Evaluation for Investors\n",
    "---\n",
    "1. #### Prioritize Risk Assessment in General Aviation  \n",
    "\n",
    "Manufacturers like Cessna and Piper dominate accident counts mainly due to their widespread use in general aviation. Investors should understand that higher accident frequencies in this segment reflect market exposure rather than inherently **higher risk** per aircraft. Careful evaluation of accident severity and operational contexts is essential for accurate risk assessment.\n",
    "\n",
    "2. #### Incorporate Geographic Risk Factors in Investment Decision   \n",
    "\n",
    "States with high accident rates, such as California, Texas, Florida, and Alaska, represent regions with significant aviation activity and diverse operational challenges. Investors should consider geographic risk profiles, including weather and terrain, to better estimate potential losses and identify opportunities for targeted risk mitigation.\n",
    "\n",
    "3.  #### Focus on Severity, Not Just Frequency, to Evaluate Risk   \n",
    "\n",
    "While large manufacturers like Boeing have fewer accidents, their higher fatality rates per event indicate more severe risk exposure due to passenger capacity. Investors must weigh both accident frequency and injury severity to accurately gauge the financial risk associated with different aircraft types and operators.\n",
    "\n",
    "4. #### Consider the Impact of Weather-Related Risks on Investment\n",
    "\n",
    "Most accidents occur under clear weather conditions due to higher flight volume, but accidents in poor weather (IMC) often have greater severity. Investment strategies should incorporate the variability of weather-related risks, supporting technologies, and training that reduce exposure during adverse conditions."
   ]
  },
  {
   "cell_type": "markdown",
   "metadata": {},
   "source": [
    "### Business Recommendation 2"
   ]
  },
  {
   "cell_type": "markdown",
   "metadata": {},
   "source": [
    "### Assess Regional Operational Risks for Smarter Investment  \n",
    "\n",
    "---\n",
    "\n",
    "Geographical factors heavily influence accident rates and severity in aviation. Regions like **Alaska and mountainous** states face unique challenges such as harsh weather, difficult terrain, and limited infrastructure, increasing operational risk.\n",
    "\n",
    "Investors should integrate detailed geographic risk analyses into their decision-making to differentiate between areas of high activity and those with elevated inherent risk. This approach helps identify where additional safety investments or insurance provisions are necessary and uncovers opportunities for supporting innovations tailored to regional challenges."
   ]
  },
  {
   "cell_type": "markdown",
   "metadata": {},
   "source": [
    "### Business Recommendation 3\n",
    "\n"
   ]
  },
  {
   "cell_type": "markdown",
   "metadata": {},
   "source": [
    "### Leverage Geographic Data to Optimize Risk Diversification\n",
    "\n",
    "1. #### Aviation risk varies significantly across different geographic locations.   \n",
    "\n",
    "Investors should leverage detailed geographic risk data to strategically diversify their investment portfolios. Accident patterns tend to differ between urban hubs, rural regions, coastal zones, and mountainous or remote areas, each presenting unique operational challenges and risk profiles.\n",
    "\n",
    "- **Urban areas** often have higher traffic volumes, which may increase the frequency of minor incidents but benefit from better emergency response infrastructure.\n",
    "- **Rural and remote regions** may experience fewer accidents overall but face increased severity due to limited access to immediate medical and rescue services.\n",
    "- **Coastal and mountainous regions** introduce complex environmental risks such as challenging terrain, variable weather, and navigation difficulties.\n",
    "\n",
    "By integrating these geographic insights, investors can:\n",
    "\n",
    "- **Balance exposure** to risk by allocating capital across regions with complementary risk characteristics.\n",
    "- **Reduce potential financial losses** by avoiding over-concentration in high-risk zones.\n",
    "- **Identify opportunities** where risk mitigation measures or technological advancements have improved safety, thus enhancing potential returns.\n",
    "\n",
    "In summary, incorporating granular geographic risk analysis into investment decision-making allows for more precise capital allocation and supports a **risk-adjusted approach** that meets investor needs for both security and growth."
   ]
  },
  {
   "cell_type": "markdown",
   "metadata": {},
   "source": [
    "## Conclusion"
   ]
  },
  {
   "cell_type": "markdown",
   "metadata": {},
   "source": [
    "This analysis highlights key insights essential for investors evaluating risk in the aviation sector. While manufacturers like **Cessna and Piper** show high accident counts, this primarily reflects their extensive use rather than inherently greater risk per aircraft. Investors must interpret accident data within the context of **market exposure and operational scale** to avoid misleading conclusions.\n",
    "\n",
    "Geographic factors play a critical role, with states such as **California, Texas, Florida, and Alaska** exhibiting higher accident rates due to diverse challenges like terrain, weather, and traffic density. Incorporating these **regional risk profiles** allows investors to better estimate potential losses and identify opportunities for targeted mitigation.\n",
    "\n",
    "Furthermore, focusing on both **accident frequency and severity** is crucial. Larger commercial aircraft like those from Boeing may have fewer accidents, but the higher fatality rates per incident indicate significant financial and reputational risks. Lastly, the impact of weather cannot be overlooked—while most accidents occur in clear conditions, those under adverse weather (IMC) tend to be more severe, emphasizing the need for investments in technology and training to reduce exposure.\n",
    "\n",
    "In summary, a **multidimensional, data-driven approach** that balances manufacturer exposure, geographic risks, accident severity, and weather variability provides the best framework for investors. This approach not only mitigates potential losses but also uncovers strategic opportunities for sustainable growth in aviation.\n"
   ]
  },
  {
   "cell_type": "markdown",
   "metadata": {},
   "source": [
    "### Next Steps"
   ]
  },
  {
   "cell_type": "markdown",
   "metadata": {},
   "source": [
    "\n",
    "To build on the insights of this analysis and support informed investment decisions in the aviation industry, the following steps are recommended:\n",
    "\n",
    "- **Deepen Geographic Analysis**  \n",
    "  Conduct more granular, region-specific studies that incorporate factors like terrain, seasonal weather patterns, and airport density to refine geographic risk assessments.\n",
    "\n",
    "- **Integrate Economic Impact Modeling**  \n",
    "  Evaluate the financial consequences of different accident scenarios using cost-benefit models. This can help quantify potential returns and losses across aircraft types and operational contexts.\n",
    "\n",
    "- **Incorporate Real-Time and Predictive Data**  \n",
    "  Use real-time aviation safety data and predictive analytics to monitor emerging risks, allowing investors to adapt strategies proactively.\n",
    "\n",
    "- **Engage with Industry Stakeholders**  \n",
    "  Collaborate with aviation regulators, insurers, and safety experts to validate findings and align investment decisions with current safety improvements and regulatory changes.\n",
    "\n",
    "- **Expand to International Comparisons**  \n",
    "  Compare accident patterns and risk factors across countries to identify best practices and explore diversification opportunities in global aviation markets.\n",
    "\n",
    "These next steps will enhance the precision of your risk evaluation framework and provide investors with a robust foundation for strategic, data-driven decisions in a high-stakes industry."
   ]
  }
 ],
 "metadata": {
  "kernelspec": {
   "display_name": "Python (learn-env)",
   "language": "python",
   "name": "learn-env"
  },
  "language_info": {
   "codemirror_mode": {
    "name": "ipython",
    "version": 3
   },
   "file_extension": ".py",
   "mimetype": "text/x-python",
   "name": "python",
   "nbconvert_exporter": "python",
   "pygments_lexer": "ipython3",
   "version": "3.8.5"
  }
 },
 "nbformat": 4,
 "nbformat_minor": 4
}
